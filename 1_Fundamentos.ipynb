{
 "cells": [
  {
   "attachments": {},
   "cell_type": "markdown",
   "id": "89733081",
   "metadata": {
    "jp-MarkdownHeadingCollapsed": true,
    "tags": []
   },
   "source": [
    "### Librerías"
   ]
  },
  {
   "cell_type": "code",
   "execution_count": 1,
   "id": "91696005",
   "metadata": {},
   "outputs": [],
   "source": [
    "import pandas as pd\n",
    "import numpy as np\n",
    "import os"
   ]
  },
  {
   "attachments": {},
   "cell_type": "markdown",
   "id": "0d5af588",
   "metadata": {
    "jp-MarkdownHeadingCollapsed": true,
    "tags": []
   },
   "source": [
    "### Carga de datos"
   ]
  },
  {
   "cell_type": "code",
   "execution_count": 2,
   "id": "8a42d3ba",
   "metadata": {},
   "outputs": [
    {
     "data": {
      "text/plain": [
       "pandas.core.frame.DataFrame"
      ]
     },
     "execution_count": 2,
     "metadata": {},
     "output_type": "execute_result"
    }
   ],
   "source": [
    "mainpath = r'C:\\Users\\carlo\\OneDrive\\GITHUB - Repositorios\\Datasets'\n",
    "filename = \"Datos ventas.csv\"\n",
    "fullpath = os.path.join(mainpath,filename)\n",
    "dataset = pd.read_csv(filepath_or_buffer = fullpath, sep = \";\", encoding = \"utf8\")\n",
    "type(dataset)"
   ]
  },
  {
   "attachments": {},
   "cell_type": "markdown",
   "id": "9187b85a",
   "metadata": {
    "tags": []
   },
   "source": [
    "## Medidas de tendencia central"
   ]
  },
  {
   "attachments": {},
   "cell_type": "markdown",
   "id": "e4726e93-93e1-4524-8334-6d59268f0e57",
   "metadata": {
    "tags": []
   },
   "source": [
    "### Media aritmética o promedio"
   ]
  },
  {
   "attachments": {},
   "cell_type": "markdown",
   "id": "cf800d9b-58b6-49d7-9173-a1d17d49e8b2",
   "metadata": {},
   "source": [
    "El método mean permite decidir tomar en cuenta o no a los valores faltantes."
   ]
  },
  {
   "cell_type": "code",
   "execution_count": 5,
   "id": "8f982619",
   "metadata": {},
   "outputs": [
    {
     "data": {
      "text/plain": [
       "nan"
      ]
     },
     "execution_count": 5,
     "metadata": {},
     "output_type": "execute_result"
    }
   ],
   "source": [
    "dataset['Ventas [unid]'].mean(skipna = False)"
   ]
  },
  {
   "cell_type": "code",
   "execution_count": 6,
   "id": "f21ddc6c",
   "metadata": {},
   "outputs": [
    {
     "data": {
      "text/plain": [
       "4.968196819681968"
      ]
     },
     "execution_count": 6,
     "metadata": {},
     "output_type": "execute_result"
    }
   ],
   "source": [
    "np.nanmean(dataset['Ventas [unid]'])"
   ]
  },
  {
   "cell_type": "code",
   "execution_count": 7,
   "id": "a2e4b9fa",
   "metadata": {},
   "outputs": [
    {
     "data": {
      "text/plain": [
       "4.968196819681968"
      ]
     },
     "execution_count": 7,
     "metadata": {},
     "output_type": "execute_result"
    }
   ],
   "source": [
    "# np.mean devolverá nan cuando tiene un array en su argumento\n",
    "# Si se alimenta a np.mean con una serie de pandas,\n",
    "# entonces no tamará en cuenta a los valores vacíos\n",
    "np.mean(dataset['Ventas [unid]'])"
   ]
  },
  {
   "attachments": {},
   "cell_type": "markdown",
   "id": "bb6cf3bf-eeaa-462e-8e20-6eb6a6cebd80",
   "metadata": {
    "tags": []
   },
   "source": [
    "### Mediana"
   ]
  },
  {
   "cell_type": "code",
   "execution_count": 8,
   "id": "f0cddc7d",
   "metadata": {},
   "outputs": [],
   "source": [
    "dataset2 = pd.DataFrame({'Name' : ['Tom', 'nick', 'krish', 'jack', 'Charlie'],\n",
    "                         'Age'  : [1, 2, 5, np.nan,9]})"
   ]
  },
  {
   "cell_type": "code",
   "execution_count": 9,
   "id": "6fc956fa",
   "metadata": {},
   "outputs": [
    {
     "data": {
      "text/plain": [
       "3.5"
      ]
     },
     "execution_count": 9,
     "metadata": {},
     "output_type": "execute_result"
    }
   ],
   "source": [
    "dataset2['Age'].median(skipna = True)"
   ]
  },
  {
   "cell_type": "code",
   "execution_count": 15,
   "id": "7ab14505-fb1d-4fb5-b796-e032f683130d",
   "metadata": {},
   "outputs": [
    {
     "data": {
      "text/plain": [
       "nan"
      ]
     },
     "execution_count": 15,
     "metadata": {},
     "output_type": "execute_result"
    }
   ],
   "source": [
    "np.median(dataset2['Age'])"
   ]
  },
  {
   "cell_type": "code",
   "execution_count": 11,
   "id": "56742254",
   "metadata": {},
   "outputs": [
    {
     "data": {
      "text/plain": [
       "3.5"
      ]
     },
     "execution_count": 11,
     "metadata": {},
     "output_type": "execute_result"
    }
   ],
   "source": [
    "np.nanmedian(dataset2[\"Age\"])"
   ]
  },
  {
   "attachments": {},
   "cell_type": "markdown",
   "id": "a950b277-d34b-4bb0-8cbe-d33f1dc83ece",
   "metadata": {
    "tags": []
   },
   "source": [
    "### Moda"
   ]
  },
  {
   "attachments": {},
   "cell_type": "markdown",
   "id": "93a1cba5",
   "metadata": {},
   "source": [
    "La moda es el valor o categoría más frecuente dentro de un conjunto de datos. Dado que se considera como \"popular\" podría representar un estándar o valor representatitvo para el dataset."
   ]
  },
  {
   "cell_type": "code",
   "execution_count": 18,
   "id": "bfaa235f",
   "metadata": {},
   "outputs": [],
   "source": [
    "Puntaje = [32, 15, 115, 42, 30, 10, 10, 12]\n",
    "\n",
    "Name = ['Mike', 'Andy', 'Nicol', 'Jordan',\n",
    "               'Jordan', 'Ronald', 'Ronald', 'Andy']"
   ]
  },
  {
   "attachments": {},
   "cell_type": "markdown",
   "id": "6c99c45c",
   "metadata": {},
   "source": [
    "Función para calcular la moda. Tome en cuenta la cantidad de valores que se pretende estudiar."
   ]
  },
  {
   "cell_type": "code",
   "execution_count": 130,
   "id": "d1d27f98-51ec-4aaf-b0a1-7fe5653a1b54",
   "metadata": {},
   "outputs": [],
   "source": [
    "def f_mode(dataset_mode):\n",
    "    # Diccionario vacío\n",
    "    frequency = {}\n",
    "    \n",
    "    # El método get(keyname,value) devuelve un valor de un diccionario\n",
    "    for value in dataset_mode:\n",
    "        \n",
    "        # Para el elemento 'value' se extrae su recuento y se suma 1 (a modo de conteo)\n",
    "        frequency[value] = frequency.get(value, 0) + 1\n",
    "\n",
    "    # El método values() develve los valor de un diccionario como lista\n",
    "    most_frequent = max(frequency.values())\n",
    "\n",
    "    modes = [key for key, value in frequency.items() if value == most_frequent]\n",
    "\n",
    "    return modes"
   ]
  },
  {
   "cell_type": "code",
   "execution_count": 133,
   "id": "6fd2daa8",
   "metadata": {},
   "outputs": [
    {
     "data": {
      "text/plain": [
       "['Andy', 'Jordan', 'Ronald']"
      ]
     },
     "execution_count": 133,
     "metadata": {},
     "output_type": "execute_result"
    }
   ],
   "source": [
    "f_mode(Name)"
   ]
  },
  {
   "attachments": {},
   "cell_type": "markdown",
   "id": "035b6e25",
   "metadata": {},
   "source": [
    "Existen alternativas fuera de la librería Pandas y Numpy para calcular la moda:"
   ]
  },
  {
   "cell_type": "code",
   "execution_count": 16,
   "id": "feedecfd",
   "metadata": {},
   "outputs": [],
   "source": [
    "from statistics import multimode"
   ]
  },
  {
   "cell_type": "code",
   "execution_count": 19,
   "id": "aa45b71d",
   "metadata": {},
   "outputs": [
    {
     "data": {
      "text/plain": [
       "['Andy', 'Jordan', 'Ronald']"
      ]
     },
     "execution_count": 19,
     "metadata": {},
     "output_type": "execute_result"
    }
   ],
   "source": [
    "multimode(Name)"
   ]
  },
  {
   "cell_type": "code",
   "execution_count": 20,
   "id": "a53a8a8a",
   "metadata": {},
   "outputs": [
    {
     "data": {
      "text/plain": [
       "[10]"
      ]
     },
     "execution_count": 20,
     "metadata": {},
     "output_type": "execute_result"
    }
   ],
   "source": [
    "multimode(Puntaje)"
   ]
  },
  {
   "attachments": {},
   "cell_type": "markdown",
   "id": "f536907d-50d8-49ba-89e8-8fe98644af56",
   "metadata": {
    "tags": []
   },
   "source": [
    "## Medidas de dispersión"
   ]
  },
  {
   "attachments": {},
   "cell_type": "markdown",
   "id": "e713126c-fd8a-4f03-8e82-e6d7827025f7",
   "metadata": {
    "tags": []
   },
   "source": [
    "### Rango o alcance"
   ]
  },
  {
   "attachments": {},
   "cell_type": "markdown",
   "id": "3290738d",
   "metadata": {},
   "source": [
    "El rango de una variable se concibe como la diferencia entre el valor máximo y el mínimo. Es bastante sensible a valores atípicos."
   ]
  },
  {
   "cell_type": "code",
   "execution_count": 21,
   "id": "fd58284f-2936-42f0-abe8-946c447a77ca",
   "metadata": {},
   "outputs": [
    {
     "name": "stdout",
     "output_type": "stream",
     "text": [
      "Valor máximo:  9.0\n",
      "Valor mínimo:  1.0\n",
      "El rango es: 8.0\n"
     ]
    }
   ],
   "source": [
    "# Utilizando las fómulas de mínimo y máximo\n",
    "data = pd.DataFrame({'Name':['Tom', 'nick', 'krish', 'jack', 'Charlie'],\n",
    "                     'Age':[1, 2, 5, np.NaN,9]})\n",
    "\n",
    "print('Valor máximo: ', max(data[\"Age\"]))\n",
    "print('Valor mínimo: ', min(data[\"Age\"]))\n",
    "\n",
    "rango = max(data[\"Age\"]) - min(data[\"Age\"])\n",
    "print(f\"El rango es: {rango}\")"
   ]
  },
  {
   "cell_type": "code",
   "execution_count": 25,
   "id": "bf0f14df-551f-4620-a740-870d107fa83f",
   "metadata": {},
   "outputs": [
    {
     "name": "stdout",
     "output_type": "stream",
     "text": [
      "El rango es: 8.0\n"
     ]
    }
   ],
   "source": [
    "# Utilizando las fómulas de numpy\n",
    "# Si existen valores en blanco se debe hacer una transformación adicional\n",
    "# para no afectar los valores máximos y mínimos de una variable\n",
    "\n",
    "data = pd.DataFrame({'Name':['Tom', 'nick', 'krish', 'jack', 'Charlie'],\n",
    "                     'Age':[1, 2, 5, np.NaN,9]})\n",
    "\n",
    "data[\"Age\"] = data[\"Age\"].fillna(np.mean(data[\"Age\"]))\n",
    "rango = np.ptp(data[\"Age\"])\n",
    "print(f\"El rango es: {rango}\")"
   ]
  },
  {
   "attachments": {},
   "cell_type": "markdown",
   "id": "8e2f0fad-cf49-45bf-9086-850fbc78daeb",
   "metadata": {
    "tags": []
   },
   "source": [
    "### Varianza"
   ]
  },
  {
   "attachments": {},
   "cell_type": "markdown",
   "id": "921fe4e2",
   "metadata": {},
   "source": [
    "Varianza muestral"
   ]
  },
  {
   "cell_type": "code",
   "execution_count": 26,
   "id": "90f5a535-c9d0-474d-ad3d-91cab715c8a9",
   "metadata": {},
   "outputs": [
    {
     "name": "stdout",
     "output_type": "stream",
     "text": [
      "12.916666666666666\n",
      "12.916666666666666\n",
      "nan\n"
     ]
    }
   ],
   "source": [
    "data = pd.DataFrame({'Name':['Tom', 'nick', 'krish', 'jack', 'Charlie'],\n",
    "        'Age':[1, 2, 5, np.NaN,9]})\n",
    "\n",
    "print(np.var(data[\"Age\"], ddof = 1))\n",
    "\n",
    "print(np.nanvar(data[\"Age\"], ddof = 1))\n",
    "\n",
    "print(pd.DataFrame.var(data[\"Age\"],skipna = False, ddof = 1))"
   ]
  },
  {
   "attachments": {},
   "cell_type": "markdown",
   "id": "9280a01c",
   "metadata": {},
   "source": [
    "Varianza poblacional"
   ]
  },
  {
   "cell_type": "code",
   "execution_count": 12,
   "id": "fc2d27c8-41ca-44c1-b21d-3d436a26af82",
   "metadata": {},
   "outputs": [
    {
     "name": "stdout",
     "output_type": "stream",
     "text": [
      "9.6875\n",
      "9.6875\n",
      "nan\n"
     ]
    }
   ],
   "source": [
    "data = {'Name':['Tom', 'nick', 'krish', 'jack', 'Charlie'],\n",
    "        'Age':[1, 2, 5, np.NaN,9]}\n",
    "data = pd.DataFrame(data)\n",
    "\n",
    "print(np.var(data[\"Age\"], ddof = 0))\n",
    "\n",
    "print(np.nanvar(data[\"Age\"], ddof = 0))\n",
    "\n",
    "print(pd.DataFrame.var(data[\"Age\"],skipna = False, ddof = 0))"
   ]
  },
  {
   "attachments": {},
   "cell_type": "markdown",
   "id": "536a63d6-4477-4bac-9d95-320d771268ad",
   "metadata": {},
   "source": [
    "### Desviación estándar"
   ]
  },
  {
   "cell_type": "code",
   "execution_count": 13,
   "id": "f05dff8e-a091-4fb9-bec5-0dfb75fc656c",
   "metadata": {},
   "outputs": [
    {
     "name": "stdout",
     "output_type": "stream",
     "text": [
      "3.593976442141304\n",
      "3.593976442141304\n",
      "nan\n"
     ]
    }
   ],
   "source": [
    "data = {'Name':['Tom', 'nick', 'krish', 'jack', 'Charlie'],\n",
    "        'Age':[1, 2, 5, np.NaN,9]}\n",
    "data = pd.DataFrame(data)\n",
    "\n",
    "print(np.std(data[\"Age\"], ddof = 1))\n",
    "\n",
    "print(np.nanstd(data[\"Age\"], ddof = 1))\n",
    "\n",
    "print(pd.DataFrame.std(data[\"Age\"],skipna = False, ddof = 1))"
   ]
  },
  {
   "attachments": {},
   "cell_type": "markdown",
   "id": "3dc78297-ce6e-4ad2-ab61-d2602ab99909",
   "metadata": {},
   "source": [
    "### Coeficiente de variación\n",
    "Esta medida de variación expresa la desviación estándar como un porcentaje de la media. Permite comparar distribuciones."
   ]
  },
  {
   "cell_type": "code",
   "execution_count": 69,
   "id": "4efd896c-bf81-4827-8f45-4ccb397457a1",
   "metadata": {},
   "outputs": [
    {
     "name": "stdout",
     "output_type": "stream",
     "text": [
      "El coeficiente de variación de la variable edad es de : 84.56 %\n"
     ]
    }
   ],
   "source": [
    "data = {'Name':['Tom', 'nick', 'krish', 'jack', 'Charlie'],\n",
    "        'Age':[1, 2, 5, np.NaN,9]}\n",
    "data = pd.DataFrame(data)\n",
    "\n",
    "CV = (np.std(data[\"Age\"], ddof = 1)) / (np.mean(data[\"Age\"]))\n",
    "\n",
    "print(f\"El coeficiente de variación de la variable edad es de : {round(CV*100,2)} %\")"
   ]
  },
  {
   "attachments": {},
   "cell_type": "markdown",
   "id": "9fce346d",
   "metadata": {},
   "source": [
    "## Otras medidas"
   ]
  },
  {
   "attachments": {},
   "cell_type": "markdown",
   "id": "b56d610b-f446-4046-8170-e23e8b986d0f",
   "metadata": {
    "tags": []
   },
   "source": [
    "### Reemplazar valores NaN con 0"
   ]
  },
  {
   "cell_type": "code",
   "execution_count": null,
   "id": "11f7b37e-837b-47d0-ad75-bf88034bc396",
   "metadata": {},
   "outputs": [],
   "source": [
    "# Utilizando Pandas para una columna\n",
    "data['Age'] = data['Age'].fillna(0)\n",
    "data"
   ]
  },
  {
   "cell_type": "code",
   "execution_count": null,
   "id": "6ec1f60f-23aa-4fb1-a350-b3c0c857ae99",
   "metadata": {},
   "outputs": [],
   "source": [
    "# Utilizando Pandas para todo el data frame\n",
    "data.fillna(0)"
   ]
  },
  {
   "attachments": {},
   "cell_type": "markdown",
   "id": "d4d1c8ac-af97-464b-bc3a-15ed1b154731",
   "metadata": {
    "tags": []
   },
   "source": [
    "### Redondear números"
   ]
  },
  {
   "cell_type": "code",
   "execution_count": null,
   "id": "4034648d-c147-42f5-a061-62ab0f976016",
   "metadata": {},
   "outputs": [],
   "source": [
    "np.round(3.14159265359,2)"
   ]
  },
  {
   "attachments": {},
   "cell_type": "markdown",
   "id": "737f16ce",
   "metadata": {},
   "source": [
    "# <span style='color:#3ba9e6'>Matemáticas generales: librería *math*"
   ]
  },
  {
   "attachments": {},
   "cell_type": "markdown",
   "id": "ebc3f24c",
   "metadata": {},
   "source": [
    "El módulo \"math\" de Python contiene funciones que permiten realizar operaciones típicas de las matemáticas. El conjunto completo de funciones puede consultarse de https://docs.python.org/3/library/math.html"
   ]
  },
  {
   "cell_type": "code",
   "execution_count": 1,
   "id": "c2014edb-b060-4405-953b-acc870b18ce1",
   "metadata": {},
   "outputs": [],
   "source": [
    "import math"
   ]
  },
  {
   "attachments": {},
   "cell_type": "markdown",
   "id": "2503355e-165d-403c-89a2-30a7d0932e2d",
   "metadata": {
    "jp-MarkdownHeadingCollapsed": true,
    "tags": []
   },
   "source": [
    "### <span style='color:#402060'>Algunas constantes matemáticas"
   ]
  },
  {
   "attachments": {},
   "cell_type": "markdown",
   "id": "9299c9b0-9487-4c6c-979d-7dfff51551f5",
   "metadata": {},
   "source": [
    "<span style='color:#402060'>*Número PI*"
   ]
  },
  {
   "cell_type": "code",
   "execution_count": 5,
   "id": "61f27c38-7902-4ee9-bc89-3a90bed5fb9e",
   "metadata": {},
   "outputs": [
    {
     "data": {
      "text/plain": [
       "3.141592653589793"
      ]
     },
     "execution_count": 5,
     "metadata": {},
     "output_type": "execute_result"
    }
   ],
   "source": [
    "math.pi"
   ]
  },
  {
   "attachments": {},
   "cell_type": "markdown",
   "id": "4566b586-229a-4f0f-8162-5746a20ab963",
   "metadata": {},
   "source": [
    "<span style='color:#402060'>*Número e*"
   ]
  },
  {
   "cell_type": "code",
   "execution_count": 6,
   "id": "ba6b3781-ae79-4a6d-a728-1fd92e462d67",
   "metadata": {},
   "outputs": [
    {
     "data": {
      "text/plain": [
       "2.718281828459045"
      ]
     },
     "execution_count": 6,
     "metadata": {},
     "output_type": "execute_result"
    }
   ],
   "source": [
    "math.e"
   ]
  },
  {
   "attachments": {},
   "cell_type": "markdown",
   "id": "b4734c4b",
   "metadata": {},
   "source": [
    "<span style='color:#402060'>*Thau (Equivale a dos veces Pi)*"
   ]
  },
  {
   "cell_type": "code",
   "execution_count": 3,
   "id": "5cbd5ed8-075f-49dd-8332-80e1b3dcb338",
   "metadata": {},
   "outputs": [
    {
     "data": {
      "text/plain": [
       "6.283185307179586"
      ]
     },
     "execution_count": 3,
     "metadata": {},
     "output_type": "execute_result"
    }
   ],
   "source": [
    "math.tau"
   ]
  },
  {
   "attachments": {},
   "cell_type": "markdown",
   "id": "a1bdd006",
   "metadata": {},
   "source": [
    "<span style='color:#402060'>*Infinito*"
   ]
  },
  {
   "cell_type": "code",
   "execution_count": 4,
   "id": "e75fc605",
   "metadata": {},
   "outputs": [
    {
     "data": {
      "text/plain": [
       "inf"
      ]
     },
     "execution_count": 4,
     "metadata": {},
     "output_type": "execute_result"
    }
   ],
   "source": [
    "math.inf"
   ]
  },
  {
   "cell_type": "code",
   "execution_count": 5,
   "id": "112019c9",
   "metadata": {},
   "outputs": [
    {
     "data": {
      "text/plain": [
       "True"
      ]
     },
     "execution_count": 5,
     "metadata": {},
     "output_type": "execute_result"
    }
   ],
   "source": [
    "math.inf == float('inf')"
   ]
  },
  {
   "attachments": {},
   "cell_type": "markdown",
   "id": "b09dfdab",
   "metadata": {},
   "source": [
    "<span style='color:#402060'>*Valor NaN (not a number)*"
   ]
  },
  {
   "cell_type": "code",
   "execution_count": 6,
   "id": "3bc84ce3-ab0c-44b3-9347-c74f64da3063",
   "metadata": {},
   "outputs": [
    {
     "data": {
      "text/plain": [
       "nan"
      ]
     },
     "execution_count": 6,
     "metadata": {},
     "output_type": "execute_result"
    }
   ],
   "source": [
    "math.nan"
   ]
  },
  {
   "attachments": {},
   "cell_type": "markdown",
   "id": "212853c6",
   "metadata": {},
   "source": [
    "### <span style='color:#402060'>Funciones logarítmicas y exponenciales"
   ]
  },
  {
   "attachments": {},
   "cell_type": "markdown",
   "id": "eb4141ec-8c8f-4575-ab78-7617979a3854",
   "metadata": {},
   "source": [
    "<span style='color:#402060'>***Constante e elevado a cierto exponente*** <br>\n",
    "    La potencia figura en el argumento de la función"
   ]
  },
  {
   "cell_type": "code",
   "execution_count": 7,
   "id": "b72a20b1",
   "metadata": {},
   "outputs": [
    {
     "data": {
      "text/plain": [
       "2.718281828459045"
      ]
     },
     "execution_count": 7,
     "metadata": {},
     "output_type": "execute_result"
    }
   ],
   "source": [
    "math.exp(1)"
   ]
  },
  {
   "cell_type": "code",
   "execution_count": 1,
   "id": "eddca6f6",
   "metadata": {},
   "outputs": [
    {
     "data": {
      "text/plain": [
       "64"
      ]
     },
     "execution_count": 1,
     "metadata": {},
     "output_type": "execute_result"
    }
   ],
   "source": [
    "2**6"
   ]
  },
  {
   "attachments": {},
   "cell_type": "markdown",
   "id": "f3421340",
   "metadata": {},
   "source": [
    "<span style='color:#402060'>***Potencia***"
   ]
  },
  {
   "cell_type": "code",
   "execution_count": 9,
   "id": "b66d5888",
   "metadata": {},
   "outputs": [
    {
     "data": {
      "text/plain": [
       "25.0"
      ]
     },
     "execution_count": 9,
     "metadata": {},
     "output_type": "execute_result"
    }
   ],
   "source": [
    "math.pow(5,2)"
   ]
  },
  {
   "cell_type": "code",
   "execution_count": 8,
   "id": "790e17f4-f542-4c39-83ef-c109238cb52f",
   "metadata": {},
   "outputs": [
    {
     "data": {
      "text/plain": [
       "1.0"
      ]
     },
     "execution_count": 8,
     "metadata": {},
     "output_type": "execute_result"
    }
   ],
   "source": [
    "# nan está ideado para operar según reglas matemáticas\n",
    "# funcion para potencias\n",
    "math.pow(math.nan,0)"
   ]
  },
  {
   "attachments": {},
   "cell_type": "markdown",
   "id": "e462d3dd",
   "metadata": {},
   "source": [
    "<span style='color:#402060'>***Logaritmos*** <br>\n",
    "    Si la función posee un argumento, entonces se calculará el logaritmo natural (base e)"
   ]
  },
  {
   "cell_type": "code",
   "execution_count": 16,
   "id": "f8500e11",
   "metadata": {},
   "outputs": [
    {
     "data": {
      "text/plain": [
       "4.0"
      ]
     },
     "execution_count": 16,
     "metadata": {},
     "output_type": "execute_result"
    }
   ],
   "source": [
    "math.log(10000,10)"
   ]
  },
  {
   "cell_type": "code",
   "execution_count": 17,
   "id": "8e4c7510",
   "metadata": {},
   "outputs": [
    {
     "data": {
      "text/plain": [
       "1.0"
      ]
     },
     "execution_count": 17,
     "metadata": {},
     "output_type": "execute_result"
    }
   ],
   "source": [
    "math.log(math.e)"
   ]
  },
  {
   "attachments": {},
   "cell_type": "markdown",
   "id": "9f644ba8-3dc2-4acb-8d17-80d5ec478014",
   "metadata": {},
   "source": [
    "### <span style='color:#402060'>Tipos de errores"
   ]
  },
  {
   "attachments": {},
   "cell_type": "markdown",
   "id": "900582d5",
   "metadata": {},
   "source": [
    "<span style='color:#402060'>***Error en la introducción de un parámetro***"
   ]
  },
  {
   "cell_type": "code",
   "execution_count": 19,
   "id": "65339174-8378-4af6-9499-62d8430c7a90",
   "metadata": {},
   "outputs": [
    {
     "ename": "ValueError",
     "evalue": "math domain error",
     "output_type": "error",
     "traceback": [
      "\u001b[1;31m---------------------------------------------------------------------------\u001b[0m",
      "\u001b[1;31mValueError\u001b[0m                                Traceback (most recent call last)",
      "Input \u001b[1;32mIn [19]\u001b[0m, in \u001b[0;36m<cell line: 1>\u001b[1;34m()\u001b[0m\n\u001b[1;32m----> 1\u001b[0m \u001b[43mmath\u001b[49m\u001b[38;5;241;43m.\u001b[39;49m\u001b[43msqrt\u001b[49m\u001b[43m(\u001b[49m\u001b[38;5;241;43m-\u001b[39;49m\u001b[38;5;241;43m1\u001b[39;49m\u001b[43m)\u001b[49m\n",
      "\u001b[1;31mValueError\u001b[0m: math domain error"
     ]
    }
   ],
   "source": [
    "math.sqrt(-1)"
   ]
  },
  {
   "attachments": {},
   "cell_type": "markdown",
   "id": "3f8d1d3d",
   "metadata": {},
   "source": [
    "<span style='color:#402060'>***Error de rango*** <br>\n",
    "    Excesivas cifras de cálculo"
   ]
  },
  {
   "cell_type": "code",
   "execution_count": 26,
   "id": "4ed98145-6bfb-4f78-827a-148bed397c8e",
   "metadata": {},
   "outputs": [
    {
     "ename": "OverflowError",
     "evalue": "math range error",
     "output_type": "error",
     "traceback": [
      "\u001b[1;31m---------------------------------------------------------------------------\u001b[0m",
      "\u001b[1;31mOverflowError\u001b[0m                             Traceback (most recent call last)",
      "Input \u001b[1;32mIn [26]\u001b[0m, in \u001b[0;36m<cell line: 1>\u001b[1;34m()\u001b[0m\n\u001b[1;32m----> 1\u001b[0m \u001b[43mmath\u001b[49m\u001b[38;5;241;43m.\u001b[39;49m\u001b[43mexp\u001b[49m\u001b[43m(\u001b[49m\u001b[38;5;241;43m10000\u001b[39;49m\u001b[43m)\u001b[49m\n",
      "\u001b[1;31mOverflowError\u001b[0m: math range error"
     ]
    }
   ],
   "source": [
    "math.exp(10000)"
   ]
  },
  {
   "attachments": {},
   "cell_type": "markdown",
   "id": "2eb59ee4-003a-485a-b15c-f861eb6961ee",
   "metadata": {
    "jp-MarkdownHeadingCollapsed": true,
    "tags": []
   },
   "source": [
    "### <span style='color:#402060'>Representación numérica"
   ]
  },
  {
   "attachments": {},
   "cell_type": "markdown",
   "id": "e9014082-def0-4c21-90ed-39d6fa21eab6",
   "metadata": {},
   "source": [
    "Funciones de redondeo"
   ]
  },
  {
   "cell_type": "code",
   "execution_count": 18,
   "id": "c5e06f7a-32d2-468b-b390-35520b2d80e6",
   "metadata": {},
   "outputs": [
    {
     "data": {
      "text/plain": [
       "4"
      ]
     },
     "execution_count": 18,
     "metadata": {},
     "output_type": "execute_result"
    }
   ],
   "source": [
    "# Redondeo al alza\n",
    "math.ceil(3.4523)"
   ]
  },
  {
   "cell_type": "code",
   "execution_count": 25,
   "id": "f118f538-800e-40c5-9697-2474ee93d86a",
   "metadata": {},
   "outputs": [
    {
     "data": {
      "text/plain": [
       "3"
      ]
     },
     "execution_count": 25,
     "metadata": {},
     "output_type": "execute_result"
    }
   ],
   "source": [
    "# Redondeo a la baja\n",
    "math.floor(3.4523)"
   ]
  },
  {
   "cell_type": "code",
   "execution_count": 27,
   "id": "a56c6f69-b3c7-4d9a-a590-b6904349a905",
   "metadata": {},
   "outputs": [
    {
     "data": {
      "text/plain": [
       "3"
      ]
     },
     "execution_count": 27,
     "metadata": {},
     "output_type": "execute_result"
    }
   ],
   "source": [
    "# Truncar un número real a uno entero\n",
    "math.trunc(3.952)"
   ]
  },
  {
   "attachments": {},
   "cell_type": "markdown",
   "id": "5e6db221-c191-46ca-a040-61bb8c5f87a3",
   "metadata": {},
   "source": [
    "Copiar el signo"
   ]
  },
  {
   "cell_type": "code",
   "execution_count": 22,
   "id": "69bbd32e-549c-4471-b9e9-8364f141f574",
   "metadata": {},
   "outputs": [
    {
     "data": {
      "text/plain": [
       "-3.0"
      ]
     },
     "execution_count": 22,
     "metadata": {},
     "output_type": "execute_result"
    }
   ],
   "source": [
    "math.copysign(3,-2)"
   ]
  },
  {
   "attachments": {},
   "cell_type": "markdown",
   "id": "79374002-e82d-48b7-995f-6b953463a85f",
   "metadata": {},
   "source": [
    "Valor absoluto"
   ]
  },
  {
   "cell_type": "code",
   "execution_count": 23,
   "id": "cf802bee-2a59-4990-b96a-767dd322c615",
   "metadata": {},
   "outputs": [
    {
     "data": {
      "text/plain": [
       "5.0"
      ]
     },
     "execution_count": 23,
     "metadata": {},
     "output_type": "execute_result"
    }
   ],
   "source": [
    "math.fabs(5)"
   ]
  },
  {
   "cell_type": "code",
   "execution_count": 24,
   "id": "8e502e0b-ecd2-4e06-8d27-abfe0b708d9d",
   "metadata": {},
   "outputs": [
    {
     "data": {
      "text/plain": [
       "23.0"
      ]
     },
     "execution_count": 24,
     "metadata": {},
     "output_type": "execute_result"
    }
   ],
   "source": [
    "math.fabs(-23)"
   ]
  },
  {
   "attachments": {},
   "cell_type": "markdown",
   "id": "0d9fdcf4-5a9a-41cf-b0a3-02cc75a6cad1",
   "metadata": {},
   "source": [
    "Factorial"
   ]
  },
  {
   "cell_type": "code",
   "execution_count": 30,
   "id": "5651f89a-00fa-4d5c-98cc-4fc6651de302",
   "metadata": {},
   "outputs": [
    {
     "data": {
      "text/plain": [
       "24"
      ]
     },
     "execution_count": 30,
     "metadata": {},
     "output_type": "execute_result"
    }
   ],
   "source": [
    "math.factorial(4)"
   ]
  },
  {
   "attachments": {},
   "cell_type": "markdown",
   "id": "35067946-3a7a-47b5-9708-f0eb77104691",
   "metadata": {},
   "source": [
    "Resto de una divsión"
   ]
  },
  {
   "cell_type": "code",
   "execution_count": 35,
   "id": "12eef32e-ca4b-4918-910d-b2568012f787",
   "metadata": {},
   "outputs": [
    {
     "data": {
      "text/plain": [
       "1.0"
      ]
     },
     "execution_count": 35,
     "metadata": {},
     "output_type": "execute_result"
    }
   ],
   "source": [
    "math.fmod(7,3)"
   ]
  },
  {
   "cell_type": "code",
   "execution_count": 36,
   "id": "05a33ee2-e353-4169-84a3-1274583cc1bf",
   "metadata": {},
   "outputs": [
    {
     "data": {
      "text/plain": [
       "1.0"
      ]
     },
     "execution_count": 36,
     "metadata": {},
     "output_type": "execute_result"
    }
   ],
   "source": [
    "math.remainder(7,3)"
   ]
  },
  {
   "attachments": {},
   "cell_type": "markdown",
   "id": "862794e0-60f7-4d85-8980-7b07773db29e",
   "metadata": {},
   "source": [
    "Cociente de una división exclusivamente"
   ]
  },
  {
   "cell_type": "code",
   "execution_count": 33,
   "id": "1f0f25e3-036b-4735-ae2a-1e0021bb90e6",
   "metadata": {},
   "outputs": [
    {
     "data": {
      "text/plain": [
       "2"
      ]
     },
     "execution_count": 33,
     "metadata": {},
     "output_type": "execute_result"
    }
   ],
   "source": [
    "7//3"
   ]
  },
  {
   "attachments": {},
   "cell_type": "markdown",
   "id": "79680fda-45bb-4deb-89c6-573844ee2fed",
   "metadata": {},
   "source": [
    "División tradicional"
   ]
  },
  {
   "cell_type": "code",
   "execution_count": 37,
   "id": "ec5bf393-e94c-492e-bcf7-c2a334d49d3d",
   "metadata": {},
   "outputs": [
    {
     "data": {
      "text/plain": [
       "2.3333333333333335"
      ]
     },
     "execution_count": 37,
     "metadata": {},
     "output_type": "execute_result"
    }
   ],
   "source": [
    "7/3"
   ]
  },
  {
   "attachments": {},
   "cell_type": "markdown",
   "id": "eff19ca4-471f-472a-93ba-055ea793a041",
   "metadata": {},
   "source": [
    "Separar la parte entera y la parte decimal"
   ]
  },
  {
   "cell_type": "code",
   "execution_count": 40,
   "id": "b571af45-6292-4023-8e1b-2555b5ef1424",
   "metadata": {},
   "outputs": [
    {
     "data": {
      "text/plain": [
       "(0.25, 4.0)"
      ]
     },
     "execution_count": 40,
     "metadata": {},
     "output_type": "execute_result"
    }
   ],
   "source": [
    "math.modf(4.25)"
   ]
  },
  {
   "attachments": {},
   "cell_type": "markdown",
   "id": "9a04b1d9-001e-4b3f-9d5d-0da03eac52db",
   "metadata": {},
   "source": [
    "Máximo común divisor"
   ]
  },
  {
   "cell_type": "code",
   "execution_count": 41,
   "id": "d47b0934-dafc-43a4-a505-3da4a7acadf8",
   "metadata": {},
   "outputs": [
    {
     "data": {
      "text/plain": [
       "12"
      ]
     },
     "execution_count": 41,
     "metadata": {},
     "output_type": "execute_result"
    }
   ],
   "source": [
    "math.gcd(24,36)"
   ]
  },
  {
   "attachments": {},
   "cell_type": "markdown",
   "id": "13b40923-455d-4afe-8af9-0255215b80bc",
   "metadata": {},
   "source": [
    "Comprombar si un número es finito"
   ]
  },
  {
   "cell_type": "code",
   "execution_count": 42,
   "id": "bab67062-c12c-4636-8796-9ab2a77349ec",
   "metadata": {},
   "outputs": [
    {
     "data": {
      "text/plain": [
       "True"
      ]
     },
     "execution_count": 42,
     "metadata": {},
     "output_type": "execute_result"
    }
   ],
   "source": [
    "math.isfinite(2.5)"
   ]
  },
  {
   "cell_type": "code",
   "execution_count": 43,
   "id": "e5e4fff4-e692-44ed-a611-ea5a57a9dbd8",
   "metadata": {},
   "outputs": [
    {
     "data": {
      "text/plain": [
       "False"
      ]
     },
     "execution_count": 43,
     "metadata": {},
     "output_type": "execute_result"
    }
   ],
   "source": [
    "math.isinf(4.7)"
   ]
  },
  {
   "cell_type": "code",
   "execution_count": 44,
   "id": "1b9d3b8a-3886-4814-92cd-e1cbed95fcf3",
   "metadata": {},
   "outputs": [
    {
     "data": {
      "text/plain": [
       "False"
      ]
     },
     "execution_count": 44,
     "metadata": {},
     "output_type": "execute_result"
    }
   ],
   "source": [
    "math.isnan(1.3)"
   ]
  },
  {
   "attachments": {},
   "cell_type": "markdown",
   "id": "824c8633-6188-4a11-8b8b-b6fe4c992296",
   "metadata": {},
   "source": [
    "Comprobar la similitud entre dos números"
   ]
  },
  {
   "cell_type": "code",
   "execution_count": 47,
   "id": "8cb947b0-741c-4f18-8940-921514b04b09",
   "metadata": {},
   "outputs": [
    {
     "data": {
      "text/plain": [
       "False"
      ]
     },
     "execution_count": 47,
     "metadata": {},
     "output_type": "execute_result"
    }
   ],
   "source": [
    "math.sqrt(2)**2 == 2"
   ]
  },
  {
   "cell_type": "code",
   "execution_count": 49,
   "id": "e34126aa-74e7-4d4a-be3d-b9b20530840e",
   "metadata": {},
   "outputs": [
    {
     "data": {
      "text/plain": [
       "True"
      ]
     },
     "execution_count": 49,
     "metadata": {},
     "output_type": "execute_result"
    }
   ],
   "source": [
    "# Comprueba el nivel de cercanía entre dos números respecto a cierta tolerancia.\n",
    "math.isclose(math.sqrt(2)**2, 2, rel_tol = 1e-09)"
   ]
  },
  {
   "attachments": {},
   "cell_type": "markdown",
   "id": "41ab4097-ba46-407f-9761-a99321c2f7f6",
   "metadata": {
    "jp-MarkdownHeadingCollapsed": true,
    "tags": []
   },
   "source": [
    "### <span style='color:#402060'>Operadores de decisión"
   ]
  },
  {
   "cell_type": "code",
   "execution_count": 50,
   "id": "91a991a1-ac2d-424b-bb45-70b8f926b0c0",
   "metadata": {},
   "outputs": [
    {
     "name": "stdout",
     "output_type": "stream",
     "text": [
      "Escribe un número: 5\n"
     ]
    }
   ],
   "source": [
    "x = int(input(\"Escribe un número:\"))"
   ]
  },
  {
   "cell_type": "code",
   "execution_count": 51,
   "id": "d85fabb1-6906-4055-a5c8-6f640104cf18",
   "metadata": {},
   "outputs": [
    {
     "name": "stdout",
     "output_type": "stream",
     "text": [
      "Escribiste el número  5\n"
     ]
    }
   ],
   "source": [
    "if x == 5:\n",
    "    print(\"Escribiste el número \",x)"
   ]
  },
  {
   "cell_type": "code",
   "execution_count": 2,
   "id": "18eb4b2d-75f8-4191-9025-49a92b075fce",
   "metadata": {},
   "outputs": [
    {
     "name": "stdout",
     "output_type": "stream",
     "text": [
      "Escribe un número:4\n",
      "Escribiste un número menor que 8\n"
     ]
    }
   ],
   "source": [
    "x = int(input(\"Escribe un número:\"))\n",
    "if x < 8 :\n",
    "    print(\"Escribiste un número menor que 8\")\n",
    "elif x < 10:\n",
    "    print(\"Escribiste un número menor que 10 y mayor o igual que 8\")\n",
    "else:\n",
    "    print(\"El número es mayor o igual a 10\")"
   ]
  },
  {
   "cell_type": "code",
   "execution_count": 56,
   "id": "ed959bbb-f13f-42d0-82cc-2b74bf06e4c3",
   "metadata": {},
   "outputs": [
    {
     "name": "stdout",
     "output_type": "stream",
     "text": [
      "Escribe un número: -5\n"
     ]
    },
    {
     "name": "stdout",
     "output_type": "stream",
     "text": [
      "Rango no válido\n"
     ]
    }
   ],
   "source": [
    "x = int(input(\"Escribe un número:\"))\n",
    "if x > 0 and x < 10:\n",
    "    print(\"Escribiste un número comprendido en el rango de 0 a 10\")\n",
    "else:\n",
    "    print(\"Rango no válido\")"
   ]
  },
  {
   "cell_type": "code",
   "execution_count": 60,
   "id": "b756574f-1374-4d1e-b873-77607f1a51ed",
   "metadata": {},
   "outputs": [
    {
     "name": "stdout",
     "output_type": "stream",
     "text": [
      "Escribe un número: 11\n"
     ]
    },
    {
     "name": "stdout",
     "output_type": "stream",
     "text": [
      "Escribiste un número que no está comprendido en el rango de 0 a 10\n"
     ]
    }
   ],
   "source": [
    "x = int(input(\"Escribe un número:\"))\n",
    "if x < 0 or x > 10:\n",
    "    print(\"Escribiste un número que no está comprendido en el rango de 0 a 10\")"
   ]
  },
  {
   "attachments": {},
   "cell_type": "markdown",
   "id": "44199fa7-76dc-4231-8f1a-bdf0900f6345",
   "metadata": {},
   "source": [
    "### <span style='color:#402060'>Funciones matemáticas"
   ]
  },
  {
   "attachments": {},
   "cell_type": "markdown",
   "id": "92f1fc7f-2120-41e3-9a47-deaefb8ee673",
   "metadata": {},
   "source": [
    "Función exponencial"
   ]
  },
  {
   "cell_type": "code",
   "execution_count": 64,
   "id": "bd853454-1bca-40fb-975b-3a1844eb38e1",
   "metadata": {},
   "outputs": [
    {
     "data": {
      "text/plain": [
       "20.085536923187668"
      ]
     },
     "execution_count": 64,
     "metadata": {},
     "output_type": "execute_result"
    }
   ],
   "source": [
    "# Esta función es más precisa que utilizar e**3\n",
    "math.exp(3)"
   ]
  },
  {
   "attachments": {},
   "cell_type": "markdown",
   "id": "3aa2ac3b-1c89-4ebb-acf7-018cb209a57a",
   "metadata": {},
   "source": [
    "Potencias"
   ]
  },
  {
   "cell_type": "code",
   "execution_count": 63,
   "id": "dcc72bdc-21b6-489d-ad73-324421250aa3",
   "metadata": {},
   "outputs": [
    {
     "data": {
      "text/plain": [
       "125.0"
      ]
     },
     "execution_count": 63,
     "metadata": {},
     "output_type": "execute_result"
    }
   ],
   "source": [
    "math.pow(5,3)"
   ]
  },
  {
   "cell_type": "code",
   "execution_count": 65,
   "id": "bb4f80ab-2d6e-481b-b857-37d7b90c8d9d",
   "metadata": {},
   "outputs": [
    {
     "data": {
      "text/plain": [
       "1.718281828459045"
      ]
     },
     "execution_count": 65,
     "metadata": {},
     "output_type": "execute_result"
    }
   ],
   "source": [
    "math.expm1(1)"
   ]
  },
  {
   "cell_type": "code",
   "execution_count": 66,
   "id": "e5cc9ab5-5843-425e-8ee1-c8e5e64f0800",
   "metadata": {},
   "outputs": [
    {
     "data": {
      "text/plain": [
       "1.718281828459045"
      ]
     },
     "execution_count": 66,
     "metadata": {},
     "output_type": "execute_result"
    }
   ],
   "source": [
    "# Se pierde precisión...\n",
    "math.exp(1) - 1"
   ]
  },
  {
   "cell_type": "code",
   "execution_count": 68,
   "id": "6294cb52-efe9-4c2a-acfd-8a62bf23d61d",
   "metadata": {},
   "outputs": [
    {
     "data": {
      "text/plain": [
       "1.0000050000069649e-05"
      ]
     },
     "execution_count": 68,
     "metadata": {},
     "output_type": "execute_result"
    }
   ],
   "source": [
    "math.exp(1e-05) - 1"
   ]
  },
  {
   "cell_type": "code",
   "execution_count": 69,
   "id": "3c6ca143-7498-470d-ba14-75525c30a6bd",
   "metadata": {},
   "outputs": [
    {
     "data": {
      "text/plain": [
       "1.0000050000166667e-05"
      ]
     },
     "execution_count": 69,
     "metadata": {},
     "output_type": "execute_result"
    }
   ],
   "source": [
    "math.expm1(1e-05)"
   ]
  },
  {
   "cell_type": "code",
   "execution_count": 3,
   "id": "0481e8ea-f903-41fb-ab37-038063dec0c2",
   "metadata": {},
   "outputs": [
    {
     "data": {
      "text/plain": [
       "2.4849066497880004"
      ]
     },
     "execution_count": 3,
     "metadata": {},
     "output_type": "execute_result"
    }
   ],
   "source": [
    "math.log(12)"
   ]
  },
  {
   "cell_type": "code",
   "execution_count": 4,
   "id": "bca6a655-2f32-4a8a-8206-a42880d6a8be",
   "metadata": {},
   "outputs": [
    {
     "data": {
      "text/plain": [
       "3.5849625007211565"
      ]
     },
     "execution_count": 4,
     "metadata": {},
     "output_type": "execute_result"
    }
   ],
   "source": [
    "math.log(12,2)"
   ]
  },
  {
   "cell_type": "code",
   "execution_count": 5,
   "id": "ce9f6ba1-a4a0-446d-84eb-afb74c3e5acf",
   "metadata": {},
   "outputs": [
    {
     "data": {
      "text/plain": [
       "9.99995000033333e-06"
      ]
     },
     "execution_count": 5,
     "metadata": {},
     "output_type": "execute_result"
    }
   ],
   "source": [
    "math.log1p(1e-05)"
   ]
  },
  {
   "cell_type": "code",
   "execution_count": 6,
   "id": "e0904904-45f8-49fd-95cc-e78fc5d640b3",
   "metadata": {},
   "outputs": [
    {
     "data": {
      "text/plain": [
       "5.0"
      ]
     },
     "execution_count": 6,
     "metadata": {},
     "output_type": "execute_result"
    }
   ],
   "source": [
    "math.log2(32)"
   ]
  },
  {
   "cell_type": "code",
   "execution_count": 8,
   "id": "619c366e-44f7-40e4-bdf1-f48597cd66c0",
   "metadata": {},
   "outputs": [
    {
     "data": {
      "text/plain": [
       "8.0"
      ]
     },
     "execution_count": 8,
     "metadata": {},
     "output_type": "execute_result"
    }
   ],
   "source": [
    "math.sqrt(64)"
   ]
  },
  {
   "attachments": {},
   "cell_type": "markdown",
   "id": "b25f2b0e-cdc4-4b40-808b-531e4603b487",
   "metadata": {},
   "source": [
    "Funciones trigonométricas"
   ]
  },
  {
   "cell_type": "code",
   "execution_count": 11,
   "id": "0ad12756-17af-4a94-95b3-5779c7d4865e",
   "metadata": {},
   "outputs": [
    {
     "data": {
      "text/plain": [
       "-0.8011526357338304"
      ]
     },
     "execution_count": 11,
     "metadata": {},
     "output_type": "execute_result"
    }
   ],
   "source": [
    "# El argumento de la función debe ser en radianes\n",
    "math.sin(180)"
   ]
  },
  {
   "cell_type": "code",
   "execution_count": 12,
   "id": "dbd9c305-d134-4b0f-acad-9418076a1e18",
   "metadata": {},
   "outputs": [
    {
     "data": {
      "text/plain": [
       "-1.0"
      ]
     },
     "execution_count": 12,
     "metadata": {},
     "output_type": "execute_result"
    }
   ],
   "source": [
    "math.cos(math.pi)"
   ]
  },
  {
   "cell_type": "code",
   "execution_count": 13,
   "id": "d0404614-83d7-4e78-8493-faf216a09651",
   "metadata": {},
   "outputs": [
    {
     "data": {
      "text/plain": [
       "1.633123935319537e+16"
      ]
     },
     "execution_count": 13,
     "metadata": {},
     "output_type": "execute_result"
    }
   ],
   "source": [
    "math.tan(math.pi/2)"
   ]
  },
  {
   "cell_type": "code",
   "execution_count": 14,
   "id": "5e1ea161-ae2a-44e5-9016-55fa1ce577fc",
   "metadata": {},
   "outputs": [
    {
     "data": {
      "text/plain": [
       "1.5707963267948966"
      ]
     },
     "execution_count": 14,
     "metadata": {},
     "output_type": "execute_result"
    }
   ],
   "source": [
    "math.asin(1)"
   ]
  },
  {
   "cell_type": "code",
   "execution_count": 15,
   "id": "58de4429-bc66-407e-bebf-f038aa16b8fc",
   "metadata": {},
   "outputs": [
    {
     "data": {
      "text/plain": [
       "1.5707963267948966"
      ]
     },
     "execution_count": 15,
     "metadata": {},
     "output_type": "execute_result"
    }
   ],
   "source": [
    "math.acos(0)"
   ]
  },
  {
   "cell_type": "code",
   "execution_count": 16,
   "id": "38c56433-ac6b-4240-a1be-093b8959f7cd",
   "metadata": {},
   "outputs": [
    {
     "data": {
      "text/plain": [
       "0.7853981633974483"
      ]
     },
     "execution_count": 16,
     "metadata": {},
     "output_type": "execute_result"
    }
   ],
   "source": [
    "# Los resultados de la función están en radianes\n",
    "math.atan(1)"
   ]
  },
  {
   "cell_type": "code",
   "execution_count": 18,
   "id": "81391619-2ec1-4890-97b5-bc345f507ecc",
   "metadata": {},
   "outputs": [
    {
     "data": {
      "text/plain": [
       "45.0"
      ]
     },
     "execution_count": 18,
     "metadata": {},
     "output_type": "execute_result"
    }
   ],
   "source": [
    "# Trnasformación de radianes a grados\n",
    "math.degrees(0.7853981633974483)"
   ]
  },
  {
   "cell_type": "code",
   "execution_count": 19,
   "id": "eb003697-8176-421e-8fff-fce99f7bbe91",
   "metadata": {},
   "outputs": [
    {
     "data": {
      "text/plain": [
       "0.5000000000000001"
      ]
     },
     "execution_count": 19,
     "metadata": {},
     "output_type": "execute_result"
    }
   ],
   "source": [
    "math.cos(math.radians(60))"
   ]
  },
  {
   "cell_type": "code",
   "execution_count": 20,
   "id": "a168a1af-ff5c-48ee-b252-f3c6387994fd",
   "metadata": {},
   "outputs": [
    {
     "data": {
      "text/plain": [
       "5.0"
      ]
     },
     "execution_count": 20,
     "metadata": {},
     "output_type": "execute_result"
    }
   ],
   "source": [
    "# Calcular el módulo de un vector\n",
    "# Los parámetros son coordenadas x,y\n",
    "math.hypot(3,4)"
   ]
  },
  {
   "cell_type": "code",
   "execution_count": 23,
   "id": "1fb14d4c-f915-4e12-85ae-950334bb53e8",
   "metadata": {},
   "outputs": [
    {
     "data": {
      "text/plain": [
       "53.13010235415598"
      ]
     },
     "execution_count": 23,
     "metadata": {},
     "output_type": "execute_result"
    }
   ],
   "source": [
    "# Hallar el ángulo del vector con el eje horizontal\n",
    "math.degrees(math.atan2(4,3))"
   ]
  },
  {
   "cell_type": "code",
   "execution_count": 25,
   "id": "b4ea0db4-8a32-4d05-8d49-d5567b35332f",
   "metadata": {},
   "outputs": [
    {
     "data": {
      "text/plain": [
       "0.9999911238536323"
      ]
     },
     "execution_count": 25,
     "metadata": {},
     "output_type": "execute_result"
    }
   ],
   "source": [
    "math.erf(math.pi)"
   ]
  },
  {
   "cell_type": "code",
   "execution_count": 26,
   "id": "54d4877e-aca6-43f8-bf7e-415c9d6a53b2",
   "metadata": {},
   "outputs": [
    {
     "data": {
      "text/plain": [
       "8.876146367641612e-06"
      ]
     },
     "execution_count": 26,
     "metadata": {},
     "output_type": "execute_result"
    }
   ],
   "source": [
    "math.erfc(math.pi)"
   ]
  }
 ],
 "metadata": {
  "kernelspec": {
   "display_name": "Python 3 (ipykernel)",
   "language": "python",
   "name": "python3"
  },
  "language_info": {
   "codemirror_mode": {
    "name": "ipython",
    "version": 3
   },
   "file_extension": ".py",
   "mimetype": "text/x-python",
   "name": "python",
   "nbconvert_exporter": "python",
   "pygments_lexer": "ipython3",
   "version": "3.10.11"
  },
  "toc": {
   "base_numbering": 1,
   "nav_menu": {
    "height": "465px",
    "width": "369px"
   },
   "number_sections": false,
   "sideBar": true,
   "skip_h1_title": false,
   "title_cell": "Table of Contents",
   "title_sidebar": "Contents",
   "toc_cell": false,
   "toc_position": {},
   "toc_section_display": true,
   "toc_window_display": false
  },
  "toc-autonumbering": false,
  "toc-showmarkdowntxt": false
 },
 "nbformat": 4,
 "nbformat_minor": 5
}
