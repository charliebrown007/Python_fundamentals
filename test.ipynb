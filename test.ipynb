{
 "cells": [
  {
   "cell_type": "raw",
   "id": "6159b894",
   "metadata": {},
   "source": [
    "---\n",
    "title: \"My Document\"\n",
    "format: \n",
    "  pdf: \n",
    "    documentclass: report\n",
    "    lof: true\n",
    "    lot: true\n",
    "    geometry:\n",
    "      - top=30mm\n",
    "      - left=20mm\n",
    "      - heightrounded\n",
    "    colorlinks: true\n",
    "---"
   ]
  },
  {
   "cell_type": "markdown",
   "id": "89733081",
   "metadata": {
    "jp-MarkdownHeadingCollapsed": true,
    "tags": []
   },
   "source": [
    "# Cargado de librerías"
   ]
  },
  {
   "cell_type": "code",
   "execution_count": 1,
   "id": "91696005",
   "metadata": {},
   "outputs": [],
   "source": [
    "import pandas as pd\n",
    "import numpy as np\n",
    "import os"
   ]
  },
  {
   "cell_type": "markdown",
   "id": "0d5af588",
   "metadata": {
    "jp-MarkdownHeadingCollapsed": true,
    "tags": []
   },
   "source": [
    "## Cargado de datos"
   ]
  },
  {
   "cell_type": "code",
   "execution_count": 5,
   "id": "8a42d3ba",
   "metadata": {},
   "outputs": [
    {
     "data": {
      "text/html": [
       "<div>\n",
       "<style scoped>\n",
       "    .dataframe tbody tr th:only-of-type {\n",
       "        vertical-align: middle;\n",
       "    }\n",
       "\n",
       "    .dataframe tbody tr th {\n",
       "        vertical-align: top;\n",
       "    }\n",
       "\n",
       "    .dataframe thead th {\n",
       "        text-align: right;\n",
       "    }\n",
       "</style>\n",
       "<table border=\"1\" class=\"dataframe\">\n",
       "  <thead>\n",
       "    <tr style=\"text-align: right;\">\n",
       "      <th></th>\n",
       "      <th>N°</th>\n",
       "      <th>Pedido</th>\n",
       "      <th>Fecha</th>\n",
       "      <th>Cliente</th>\n",
       "      <th>Segemento</th>\n",
       "      <th>Ventas [unid]</th>\n",
       "      <th>Ventas [$]</th>\n",
       "    </tr>\n",
       "  </thead>\n",
       "  <tbody>\n",
       "    <tr>\n",
       "      <th>0</th>\n",
       "      <td>1</td>\n",
       "      <td>225348</td>\n",
       "      <td>17/3/2021</td>\n",
       "      <td>30</td>\n",
       "      <td>Segmento 8</td>\n",
       "      <td>NaN</td>\n",
       "      <td>47,05</td>\n",
       "    </tr>\n",
       "    <tr>\n",
       "      <th>1</th>\n",
       "      <td>2</td>\n",
       "      <td>966601</td>\n",
       "      <td>6/12/2021</td>\n",
       "      <td>22</td>\n",
       "      <td>Segmento 3</td>\n",
       "      <td>NaN</td>\n",
       "      <td>674,93</td>\n",
       "    </tr>\n",
       "    <tr>\n",
       "      <th>2</th>\n",
       "      <td>3</td>\n",
       "      <td>241199</td>\n",
       "      <td>19/2/2021</td>\n",
       "      <td>9</td>\n",
       "      <td>Segmento 3</td>\n",
       "      <td>NaN</td>\n",
       "      <td>326,04</td>\n",
       "    </tr>\n",
       "    <tr>\n",
       "      <th>3</th>\n",
       "      <td>4</td>\n",
       "      <td>593262</td>\n",
       "      <td>3/11/2021</td>\n",
       "      <td>12</td>\n",
       "      <td>Segmento 7</td>\n",
       "      <td>NaN</td>\n",
       "      <td>392,91</td>\n",
       "    </tr>\n",
       "    <tr>\n",
       "      <th>4</th>\n",
       "      <td>5</td>\n",
       "      <td>272268</td>\n",
       "      <td>25/12/2021</td>\n",
       "      <td>26</td>\n",
       "      <td>Segmento 8</td>\n",
       "      <td>6.0</td>\n",
       "      <td>252,83</td>\n",
       "    </tr>\n",
       "  </tbody>\n",
       "</table>\n",
       "</div>"
      ],
      "text/plain": [
       "   N°  Pedido       Fecha  Cliente   Segemento  Ventas [unid] Ventas [$]\n",
       "0   1  225348   17/3/2021       30  Segmento 8            NaN      47,05\n",
       "1   2  966601   6/12/2021       22  Segmento 3            NaN     674,93\n",
       "2   3  241199   19/2/2021        9  Segmento 3            NaN     326,04\n",
       "3   4  593262   3/11/2021       12  Segmento 7            NaN     392,91\n",
       "4   5  272268  25/12/2021       26  Segmento 8            6.0     252,83"
      ]
     },
     "execution_count": 5,
     "metadata": {},
     "output_type": "execute_result"
    }
   ],
   "source": [
    "mainpath = r\"C:\\Users\\DELL\\OneDrive\\Formación\\Python\\Datasets\"\n",
    "filename = \"Datos ventas.csv\"\n",
    "fullpath = os.path.join(mainpath,filename)\n",
    "dataset = pd.read_csv(filepath_or_buffer = fullpath, sep = \";\", encoding = \"utf8\")\n",
    "#print(type(dataset))\n",
    "# dataset.head()"
   ]
  },
  {
   "cell_type": "markdown",
   "id": "d577cd74",
   "metadata": {
    "tags": []
   },
   "source": [
    "## Funciones para estadística descriptiva"
   ]
  },
  {
   "cell_type": "markdown",
   "id": "9187b85a",
   "metadata": {
    "tags": []
   },
   "source": [
    "### Medidas de tendencia central"
   ]
  },
  {
   "cell_type": "markdown",
   "id": "e4726e93-93e1-4524-8334-6d59268f0e57",
   "metadata": {
    "tags": []
   },
   "source": [
    "#### Media aritmética o promedio"
   ]
  },
  {
   "cell_type": "markdown",
   "id": "cf800d9b-58b6-49d7-9173-a1d17d49e8b2",
   "metadata": {},
   "source": [
    "Esta función excluye automáticamente a los valores faltantes (NaN)"
   ]
  },
  {
   "cell_type": "code",
   "execution_count": 3,
   "id": "8f982619",
   "metadata": {},
   "outputs": [
    {
     "data": {
      "text/plain": [
       "4.968196819681968"
      ]
     },
     "execution_count": 3,
     "metadata": {},
     "output_type": "execute_result"
    }
   ],
   "source": [
    "dataset['Ventas [unid]'].mean(skipna = True)"
   ]
  },
  {
   "cell_type": "code",
   "execution_count": 13,
   "id": "a2e4b9fa",
   "metadata": {},
   "outputs": [
    {
     "data": {
      "text/plain": [
       "4.968196819681968"
      ]
     },
     "execution_count": 13,
     "metadata": {},
     "output_type": "execute_result"
    }
   ],
   "source": [
    "np.mean(dataset['Ventas [unid]'])"
   ]
  },
  {
   "cell_type": "code",
   "execution_count": null,
   "id": "128d682b",
   "metadata": {},
   "outputs": [],
   "source": []
  }
 ],
 "metadata": {
  "kernelspec": {
   "display_name": "Python 3 (ipykernel)",
   "language": "python",
   "name": "python3"
  },
  "language_info": {
   "codemirror_mode": {
    "name": "ipython",
    "version": 3
   },
   "file_extension": ".py",
   "mimetype": "text/x-python",
   "name": "python",
   "nbconvert_exporter": "python",
   "pygments_lexer": "ipython3",
   "version": "3.10.4"
  },
  "toc": {
   "base_numbering": 1,
   "nav_menu": {},
   "number_sections": false,
   "sideBar": true,
   "skip_h1_title": false,
   "title_cell": "Table of Contents",
   "title_sidebar": "Contents",
   "toc_cell": false,
   "toc_position": {},
   "toc_section_display": true,
   "toc_window_display": false
  }
 },
 "nbformat": 4,
 "nbformat_minor": 5
}
