{
 "cells": [
  {
   "cell_type": "markdown",
   "id": "89d4ef55",
   "metadata": {},
   "source": [
    "## 1. Uso de función print"
   ]
  },
  {
   "cell_type": "code",
   "execution_count": 1,
   "id": "05eb1cb8",
   "metadata": {},
   "outputs": [
    {
     "name": "stdout",
     "output_type": "stream",
     "text": [
      "Hoy aprenderé a usar la función print\n"
     ]
    }
   ],
   "source": [
    "print(\"Hoy aprenderé a usar la función print\")"
   ]
  },
  {
   "cell_type": "markdown",
   "id": "4ddd090e",
   "metadata": {},
   "source": [
    "Uso de comillas dentro del texto"
   ]
  },
  {
   "cell_type": "code",
   "execution_count": 4,
   "id": "735e2ae9",
   "metadata": {
    "scrolled": true
   },
   "outputs": [
    {
     "name": "stdout",
     "output_type": "stream",
     "text": [
      "Hoy aprenderé a usar la \"función\" print\n"
     ]
    }
   ],
   "source": [
    "print('Hoy aprenderé a usar la \"función\" print')"
   ]
  },
  {
   "cell_type": "markdown",
   "id": "d06c7bd0",
   "metadata": {},
   "source": [
    "Saltos de línea en el resultado"
   ]
  },
  {
   "cell_type": "code",
   "execution_count": 5,
   "id": "516e4426",
   "metadata": {
    "scrolled": true
   },
   "outputs": [
    {
     "name": "stdout",
     "output_type": "stream",
     "text": [
      "Hoy aprenderé \n",
      " a usar la \n",
      " \"función\" print\n"
     ]
    }
   ],
   "source": [
    "print('Hoy aprenderé \\n a usar la \\n \"función\" print')"
   ]
  },
  {
   "cell_type": "markdown",
   "id": "ba443d9f",
   "metadata": {},
   "source": [
    "Saltos de línea sobre la función"
   ]
  },
  {
   "cell_type": "code",
   "execution_count": 6,
   "id": "fa2cae61",
   "metadata": {},
   "outputs": [
    {
     "name": "stdout",
     "output_type": "stream",
     "text": [
      "Hoy aprenderé a usar la \"función\" print\n"
     ]
    }
   ],
   "source": [
    "print('Hoy aprenderé \\\n",
    "a usar la \\\n",
    "\"función\" print')"
   ]
  },
  {
   "cell_type": "markdown",
   "id": "df3b671f",
   "metadata": {},
   "source": [
    "Uso de triples comillas"
   ]
  },
  {
   "cell_type": "code",
   "execution_count": 7,
   "id": "12cc5207",
   "metadata": {},
   "outputs": [
    {
     "name": "stdout",
     "output_type": "stream",
     "text": [
      "Aprender 'Python' es realmente \"sencillo\" \n"
     ]
    }
   ],
   "source": [
    "print(\"\"\"Aprender 'Python' es realmente \"sencillo\" \"\"\")"
   ]
  },
  {
   "cell_type": "markdown",
   "id": "f58f3853",
   "metadata": {},
   "source": [
    "Concatenación de variables y texto con la función print"
   ]
  },
  {
   "cell_type": "code",
   "execution_count": 8,
   "id": "7cf401b6",
   "metadata": {},
   "outputs": [
    {
     "name": "stdout",
     "output_type": "stream",
     "text": [
      "22 elevado a la 3 da por resultado 10648\n"
     ]
    }
   ],
   "source": [
    "w = 22\n",
    "z = 3\n",
    "y = w ** z\n",
    "print(w, \"elevado a la\",z,\"da por resultado\",y)"
   ]
  },
  {
   "cell_type": "code",
   "execution_count": 13,
   "id": "1d67502b",
   "metadata": {},
   "outputs": [],
   "source": [
    "# Función printf (pendiente)"
   ]
  },
  {
   "cell_type": "markdown",
   "id": "0cf68ba9",
   "metadata": {},
   "source": [
    "## 2. Función range\n",
    "Genera una sucesión de números"
   ]
  },
  {
   "cell_type": "code",
   "execution_count": 38,
   "id": "1ec22ee3",
   "metadata": {},
   "outputs": [
    {
     "data": {
      "text/plain": [
       "[0, 1, 2, 3, 4]"
      ]
     },
     "execution_count": 38,
     "metadata": {},
     "output_type": "execute_result"
    }
   ],
   "source": [
    "# Genración de una lista de 5 números que incia en 0\n",
    "list(range(5))"
   ]
  },
  {
   "cell_type": "code",
   "execution_count": 36,
   "id": "59cc549b",
   "metadata": {},
   "outputs": [
    {
     "name": "stdout",
     "output_type": "stream",
     "text": [
      "0\n",
      "1\n",
      "2\n",
      "3\n",
      "4\n"
     ]
    }
   ],
   "source": [
    "# Genración de una secuencia de 5 números que incia en 0\n",
    "for seq in range(5):\n",
    "    print(seq)"
   ]
  },
  {
   "cell_type": "code",
   "execution_count": 39,
   "id": "9e350725",
   "metadata": {},
   "outputs": [
    {
     "data": {
      "text/plain": [
       "[5, 6, 7, 8, 9, 10]"
      ]
     },
     "execution_count": 39,
     "metadata": {},
     "output_type": "execute_result"
    }
   ],
   "source": [
    "# Genración de una lista que incia en 5 hasta 10\n",
    "list(range(5,11))"
   ]
  },
  {
   "cell_type": "code",
   "execution_count": 37,
   "id": "8ee22eff",
   "metadata": {},
   "outputs": [
    {
     "name": "stdout",
     "output_type": "stream",
     "text": [
      "5\n",
      "6\n",
      "7\n",
      "8\n",
      "9\n",
      "10\n"
     ]
    }
   ],
   "source": [
    "# Genración de una secuencia que incia en 5 hasta 10\n",
    "for seq in range(5,11):\n",
    "    print(seq)"
   ]
  },
  {
   "cell_type": "code",
   "execution_count": 1,
   "id": "db5e80a8",
   "metadata": {},
   "outputs": [
    {
     "name": "stdout",
     "output_type": "stream",
     "text": [
      "['c', 'a', 's', 'a']\n"
     ]
    }
   ],
   "source": [
    "# Secuencia de caracteres en un lista\n",
    "lista = []\n",
    "for letra in 'casa':\n",
    "    lista.append(letra)\n",
    "print(lista)"
   ]
  },
  {
   "cell_type": "code",
   "execution_count": 1,
   "id": "392b8c5b",
   "metadata": {},
   "outputs": [],
   "source": [
    "# Secuencia del 1 al 15 en un lista\n",
    "numeros = []\n",
    "for i in range(1,16):\n",
    "    numeros = numeros + [i]"
   ]
  },
  {
   "cell_type": "code",
   "execution_count": 2,
   "id": "ccc36ad0",
   "metadata": {},
   "outputs": [
    {
     "data": {
      "text/plain": [
       "[1, 2, 3, 4, 5, 6, 7, 8, 9, 10, 11, 12, 13, 14, 15]"
      ]
     },
     "execution_count": 2,
     "metadata": {},
     "output_type": "execute_result"
    }
   ],
   "source": [
    "numeros"
   ]
  },
  {
   "cell_type": "code",
   "execution_count": 4,
   "id": "679ad54b",
   "metadata": {},
   "outputs": [
    {
     "data": {
      "text/plain": [
       "[0, 1, 2, 3, 4, 5, 6, 7, 8, 9, 10, 11, 12, 13, 14]"
      ]
     },
     "execution_count": 4,
     "metadata": {},
     "output_type": "execute_result"
    }
   ],
   "source": [
    "# Secuencia de 15 números usando compresión de listas\n",
    "numbers = [i for i in range(15)]\n",
    "numbers"
   ]
  },
  {
   "cell_type": "code",
   "execution_count": 5,
   "id": "4d50bb5f",
   "metadata": {},
   "outputs": [
    {
     "data": {
      "text/plain": [
       "[1, 2, 3, 4, 5, 6, 7, 8, 9, 10, 11, 12, 13, 14, 15]"
      ]
     },
     "execution_count": 5,
     "metadata": {},
     "output_type": "execute_result"
    }
   ],
   "source": [
    "# Secuencia de 15 números con la función list\n",
    "numbers = list(range(1,16))\n",
    "numbers"
   ]
  },
  {
   "cell_type": "markdown",
   "id": "e368a4b4",
   "metadata": {
    "heading_collapsed": true
   },
   "source": [
    "## 3. Función del"
   ]
  },
  {
   "cell_type": "markdown",
   "id": "4efc660f-3092-43d5-a846-6e12b97c98b4",
   "metadata": {
    "hidden": true
   },
   "source": [
    "Ahora arma una lista con todos los multiples de 10 del 0 al 90"
   ]
  },
  {
   "cell_type": "code",
   "execution_count": 6,
   "id": "570d1b24",
   "metadata": {
    "hidden": true
   },
   "outputs": [
    {
     "data": {
      "text/plain": [
       "[0, 10, 20, 30, 40, 50, 60, 70, 80, 90]"
      ]
     },
     "execution_count": 6,
     "metadata": {},
     "output_type": "execute_result"
    }
   ],
   "source": [
    "decenas = [i*10 for i in range(10)]\n",
    "decenas"
   ]
  },
  {
   "cell_type": "markdown",
   "id": "7f593981-b5fc-4629-9725-72e158c5e6b3",
   "metadata": {
    "hidden": true
   },
   "source": [
    "Borra del 30 al 50"
   ]
  },
  {
   "cell_type": "code",
   "execution_count": 7,
   "id": "9b08bf42-1f27-4166-8873-89aef5459e20",
   "metadata": {
    "hidden": true
   },
   "outputs": [],
   "source": [
    "del decenas [3:6]"
   ]
  },
  {
   "cell_type": "code",
   "execution_count": 8,
   "id": "e46d970a-fff5-4205-bf72-eb4ca270fa93",
   "metadata": {
    "hidden": true
   },
   "outputs": [
    {
     "data": {
      "text/plain": [
       "[0, 10, 20, 60, 70, 80, 90]"
      ]
     },
     "execution_count": 8,
     "metadata": {},
     "output_type": "execute_result"
    }
   ],
   "source": [
    "decenas"
   ]
  },
  {
   "cell_type": "markdown",
   "id": "76350a53-7aab-4c18-9b43-a55f8b0c551d",
   "metadata": {
    "hidden": true
   },
   "source": [
    "A continuación, rearma la lista y borra cada segundo elemento (conservar pares)"
   ]
  },
  {
   "cell_type": "code",
   "execution_count": 9,
   "id": "434abc5e-a248-4945-b6de-c0492ca8cbc2",
   "metadata": {
    "hidden": true
   },
   "outputs": [
    {
     "data": {
      "text/plain": [
       "[0, 20, 40, 60, 80]"
      ]
     },
     "execution_count": 9,
     "metadata": {},
     "output_type": "execute_result"
    }
   ],
   "source": [
    "decenas = [i*10 for i in range(10)]\n",
    "del decenas[1::2]\n",
    "decenas"
   ]
  },
  {
   "cell_type": "markdown",
   "id": "2f89d65a",
   "metadata": {
    "hidden": true
   },
   "source": [
    "Conservar impares"
   ]
  },
  {
   "cell_type": "code",
   "execution_count": 10,
   "id": "fdfadf85",
   "metadata": {
    "hidden": true
   },
   "outputs": [
    {
     "data": {
      "text/plain": [
       "[10, 30, 50, 70, 90]"
      ]
     },
     "execution_count": 10,
     "metadata": {},
     "output_type": "execute_result"
    }
   ],
   "source": [
    "decenas = [i*10 for i in range(10)]\n",
    "del decenas[::2]\n",
    "decenas"
   ]
  },
  {
   "cell_type": "markdown",
   "id": "da7c571a-ba0f-472b-9800-b94b7808ff05",
   "metadata": {
    "hidden": true
   },
   "source": [
    "Borrar la lista completa"
   ]
  },
  {
   "cell_type": "code",
   "execution_count": 11,
   "id": "d21a9a28-cca0-436d-becb-c021125b4c55",
   "metadata": {
    "hidden": true
   },
   "outputs": [
    {
     "ename": "NameError",
     "evalue": "name 'decenas' is not defined",
     "output_type": "error",
     "traceback": [
      "\u001b[1;31m---------------------------------------------------------------------------\u001b[0m",
      "\u001b[1;31mNameError\u001b[0m                                 Traceback (most recent call last)",
      "\u001b[1;32m~\\AppData\\Local\\Temp/ipykernel_4496/1027532823.py\u001b[0m in \u001b[0;36m<module>\u001b[1;34m\u001b[0m\n\u001b[0;32m      1\u001b[0m \u001b[1;32mdel\u001b[0m \u001b[0mdecenas\u001b[0m\u001b[1;33m\u001b[0m\u001b[1;33m\u001b[0m\u001b[0m\n\u001b[1;32m----> 2\u001b[1;33m \u001b[0mdecenas\u001b[0m\u001b[1;33m\u001b[0m\u001b[1;33m\u001b[0m\u001b[0m\n\u001b[0m",
      "\u001b[1;31mNameError\u001b[0m: name 'decenas' is not defined"
     ]
    }
   ],
   "source": [
    "del decenas\n",
    "decenas"
   ]
  },
  {
   "cell_type": "markdown",
   "id": "0df94375",
   "metadata": {
    "heading_collapsed": true
   },
   "source": [
    "## 3. Método sort\n",
    "Como cualquier método, este afectará al datset original"
   ]
  },
  {
   "cell_type": "code",
   "execution_count": 1,
   "id": "2fc79c46",
   "metadata": {
    "hidden": true
   },
   "outputs": [],
   "source": [
    "edad = [65,26,28,36,18]"
   ]
  },
  {
   "cell_type": "code",
   "execution_count": 2,
   "id": "8ee1c6ba",
   "metadata": {
    "hidden": true
   },
   "outputs": [
    {
     "data": {
      "text/plain": [
       "[18, 26, 28, 36, 65]"
      ]
     },
     "execution_count": 2,
     "metadata": {},
     "output_type": "execute_result"
    }
   ],
   "source": [
    "# Ordena la lista de menor a mayor\n",
    "edad.sort()\n",
    "edad"
   ]
  },
  {
   "cell_type": "code",
   "execution_count": 14,
   "id": "05df3db1",
   "metadata": {
    "hidden": true
   },
   "outputs": [
    {
     "data": {
      "text/plain": [
       "[65, 36, 28, 26, 18]"
      ]
     },
     "execution_count": 14,
     "metadata": {},
     "output_type": "execute_result"
    }
   ],
   "source": [
    "# Ordena la lista de mayor a menor, pero el resultado es una lista (la tupla no cambia)\n",
    "edad.sort(reverse = True)\n",
    "edad"
   ]
  },
  {
   "cell_type": "markdown",
   "id": "16d029c2",
   "metadata": {
    "heading_collapsed": true
   },
   "source": [
    "## 3. Función sorted\n",
    "No afecta al dataset original"
   ]
  },
  {
   "cell_type": "code",
   "execution_count": 7,
   "id": "0caa8cac",
   "metadata": {
    "hidden": true
   },
   "outputs": [],
   "source": [
    "edad = [65,26,28,36,18]"
   ]
  },
  {
   "cell_type": "code",
   "execution_count": 8,
   "id": "b50d5f4e",
   "metadata": {
    "hidden": true
   },
   "outputs": [
    {
     "data": {
      "text/plain": [
       "[18, 26, 28, 36, 65]"
      ]
     },
     "execution_count": 8,
     "metadata": {},
     "output_type": "execute_result"
    }
   ],
   "source": [
    "edad_ordenada = sorted(edad)\n",
    "edad_ordenada"
   ]
  },
  {
   "cell_type": "code",
   "execution_count": 10,
   "id": "b80025e1",
   "metadata": {
    "hidden": true
   },
   "outputs": [
    {
     "data": {
      "text/plain": [
       "[65, 26, 28, 36, 18]"
      ]
     },
     "execution_count": 10,
     "metadata": {},
     "output_type": "execute_result"
    }
   ],
   "source": [
    "edad"
   ]
  },
  {
   "cell_type": "code",
   "execution_count": 12,
   "id": "e0e3679d",
   "metadata": {
    "hidden": true
   },
   "outputs": [
    {
     "data": {
      "text/plain": [
       "[65, 36, 28, 26, 18]"
      ]
     },
     "execution_count": 12,
     "metadata": {},
     "output_type": "execute_result"
    }
   ],
   "source": [
    "edad_ordenada = sorted(edad, reverse = True)\n",
    "edad_ordenada"
   ]
  },
  {
   "cell_type": "code",
   "execution_count": 13,
   "id": "4cac0c28",
   "metadata": {
    "hidden": true
   },
   "outputs": [
    {
     "data": {
      "text/plain": [
       "[11, 22, 45, 65, 87]"
      ]
     },
     "execution_count": 13,
     "metadata": {},
     "output_type": "execute_result"
    }
   ],
   "source": [
    "# Las tuplas pueden ordenarse con la función sorted\n",
    "tupla = (45,22,11,87,65)\n",
    "tuplaord = sorted(tupla)\n",
    "tuplaord"
   ]
  },
  {
   "cell_type": "markdown",
   "id": "70279449",
   "metadata": {
    "heading_collapsed": true
   },
   "source": [
    "## 3. Modificación de listas: método insert, append, extend, remove, clear, count, reverse y copy"
   ]
  },
  {
   "cell_type": "markdown",
   "id": "628cf14f",
   "metadata": {
    "hidden": true
   },
   "source": [
    "El método **insert** añade un elemento en cierta posición a un lista."
   ]
  },
  {
   "cell_type": "code",
   "execution_count": 17,
   "id": "a3cabfe0",
   "metadata": {
    "hidden": true
   },
   "outputs": [
    {
     "data": {
      "text/plain": [
       "['lechuga', 'espinaca', 'apio']"
      ]
     },
     "execution_count": 17,
     "metadata": {},
     "output_type": "execute_result"
    }
   ],
   "source": [
    "# Isertar \"lechuga en la posición \"0\"\n",
    "vegetales = ['espinaca','apio']\n",
    "vegetales.insert(0,\"lechuga\")\n",
    "vegetales"
   ]
  },
  {
   "cell_type": "markdown",
   "id": "1431e6bc",
   "metadata": {
    "hidden": true
   },
   "source": [
    "El método **append** añade un elemento a la última posición de una lista."
   ]
  },
  {
   "cell_type": "code",
   "execution_count": 25,
   "id": "2a048c65",
   "metadata": {
    "hidden": true
   },
   "outputs": [
    {
     "data": {
      "text/plain": [
       "['espinaca', 'apio', 'lechuga']"
      ]
     },
     "execution_count": 25,
     "metadata": {},
     "output_type": "execute_result"
    }
   ],
   "source": [
    "vegetales = ['espinaca','apio']\n",
    "vegetales.append(\"lechuga\")\n",
    "vegetales"
   ]
  },
  {
   "cell_type": "markdown",
   "id": "9fc681a5",
   "metadata": {
    "hidden": true
   },
   "source": [
    "El método **extend** añade varios elementos a una lista."
   ]
  },
  {
   "cell_type": "code",
   "execution_count": 26,
   "id": "18c45886",
   "metadata": {
    "hidden": true
   },
   "outputs": [
    {
     "data": {
      "text/plain": [
       "['espinaca', 'apio', 10, 15, 8, 30]"
      ]
     },
     "execution_count": 26,
     "metadata": {},
     "output_type": "execute_result"
    }
   ],
   "source": [
    "vegetales = ['espinaca','apio']\n",
    "vegetales.extend([10,15,8,30])\n",
    "vegetales"
   ]
  },
  {
   "cell_type": "markdown",
   "id": "4d169799",
   "metadata": {
    "hidden": true
   },
   "source": [
    "El método **remove** elimina el primer elemento coincidente de una lista."
   ]
  },
  {
   "cell_type": "code",
   "execution_count": 22,
   "id": "777e02da",
   "metadata": {
    "hidden": true
   },
   "outputs": [
    {
     "data": {
      "text/plain": [
       "['espinaca', 'apio', 'espárragos']"
      ]
     },
     "execution_count": 22,
     "metadata": {},
     "output_type": "execute_result"
    }
   ],
   "source": [
    "vegetales = ['espinaca','espárragos','apio','espárragos']\n",
    "vegetales.remove(\"espárragos\")\n",
    "vegetales"
   ]
  },
  {
   "cell_type": "markdown",
   "id": "0379358e",
   "metadata": {
    "hidden": true
   },
   "source": [
    "El método **clear** elimina todos los elementos de una lista."
   ]
  },
  {
   "cell_type": "code",
   "execution_count": 24,
   "id": "e3879da0",
   "metadata": {
    "hidden": true
   },
   "outputs": [
    {
     "data": {
      "text/plain": [
       "[]"
      ]
     },
     "execution_count": 24,
     "metadata": {},
     "output_type": "execute_result"
    }
   ],
   "source": [
    "vegetales = ['espinaca','espárragos','apio','espárragos']\n",
    "vegetales.clear()\n",
    "vegetales"
   ]
  },
  {
   "cell_type": "markdown",
   "id": "833fc59e",
   "metadata": {
    "hidden": true
   },
   "source": [
    "El método **count** cuenta un elemento sobre una lista específica."
   ]
  },
  {
   "cell_type": "code",
   "execution_count": 27,
   "id": "9173e176",
   "metadata": {
    "hidden": true
   },
   "outputs": [],
   "source": [
    "edades = [15, 21, 16, 19, 20, 16, 19, 15, 21, 17, 18, 24, 20, 24, 21, 19, 18, 16, 19, 16]"
   ]
  },
  {
   "cell_type": "code",
   "execution_count": 29,
   "id": "b01dc489",
   "metadata": {
    "hidden": true
   },
   "outputs": [
    {
     "data": {
      "text/plain": [
       "4"
      ]
     },
     "execution_count": 29,
     "metadata": {},
     "output_type": "execute_result"
    }
   ],
   "source": [
    "# El elemento 16 se repite 4 veces\n",
    "edades.count(16)"
   ]
  },
  {
   "cell_type": "code",
   "execution_count": 31,
   "id": "f62bc090",
   "metadata": {
    "hidden": true
   },
   "outputs": [
    {
     "name": "stdout",
     "output_type": "stream",
     "text": [
      "La edad 15 se repite 2 veces\n",
      "La edad 16 se repite 4 veces\n",
      "La edad 17 se repite 1 veces\n",
      "La edad 18 se repite 2 veces\n",
      "La edad 19 se repite 4 veces\n",
      "La edad 20 se repite 2 veces\n",
      "La edad 21 se repite 3 veces\n",
      "La edad 22 se repite 0 veces\n",
      "La edad 23 se repite 0 veces\n",
      "La edad 24 se repite 2 veces\n"
     ]
    }
   ],
   "source": [
    "for i in range(min(edades),max(edades) + 1):\n",
    "    print(f'La edad {i} se repite {edades.count(i)} veces')"
   ]
  },
  {
   "cell_type": "markdown",
   "id": "e89e67f6",
   "metadata": {
    "hidden": true
   },
   "source": [
    "El método **reverse** invierte el orden de los elementos de una lista."
   ]
  },
  {
   "cell_type": "code",
   "execution_count": 36,
   "id": "a3428936",
   "metadata": {
    "hidden": true
   },
   "outputs": [
    {
     "data": {
      "text/plain": [
       "['lechuga', 'espinaca', 'apio', 'pepinillo']"
      ]
     },
     "execution_count": 36,
     "metadata": {},
     "output_type": "execute_result"
    }
   ],
   "source": [
    "vegetales = ['lechuga','espinaca','apio','pepinillo']\n",
    "vegetales"
   ]
  },
  {
   "cell_type": "code",
   "execution_count": 37,
   "id": "c01a57ab",
   "metadata": {
    "hidden": true
   },
   "outputs": [
    {
     "data": {
      "text/plain": [
       "['pepinillo', 'apio', 'espinaca', 'lechuga']"
      ]
     },
     "execution_count": 37,
     "metadata": {},
     "output_type": "execute_result"
    }
   ],
   "source": [
    "vegetales.reverse()\n",
    "vegetales"
   ]
  },
  {
   "cell_type": "markdown",
   "id": "2ca94a84",
   "metadata": {
    "hidden": true
   },
   "source": [
    "El método **copy** crea una copia para una nueva variable"
   ]
  },
  {
   "cell_type": "code",
   "execution_count": 42,
   "id": "f1cc6fa2",
   "metadata": {
    "hidden": true
   },
   "outputs": [
    {
     "data": {
      "text/plain": [
       "['lechuga', 'espinaca', 'apio', 'pepinillo']"
      ]
     },
     "execution_count": 42,
     "metadata": {},
     "output_type": "execute_result"
    }
   ],
   "source": [
    "vegetales = ['lechuga','espinaca','apio','pepinillo']\n",
    "vegetales"
   ]
  },
  {
   "cell_type": "code",
   "execution_count": 43,
   "id": "817df011",
   "metadata": {
    "hidden": true
   },
   "outputs": [
    {
     "data": {
      "text/plain": [
       "['pepinillo', 'apio', 'espinaca', 'lechuga']"
      ]
     },
     "execution_count": 43,
     "metadata": {},
     "output_type": "execute_result"
    }
   ],
   "source": [
    "vegetales2 = vegetales.copy()\n",
    "vegetales2.reverse()\n",
    "vegetales2"
   ]
  },
  {
   "cell_type": "code",
   "execution_count": 44,
   "id": "a2d677c2",
   "metadata": {
    "hidden": true
   },
   "outputs": [
    {
     "data": {
      "text/plain": [
       "['lechuga', 'espinaca', 'apio', 'pepinillo']"
      ]
     },
     "execution_count": 44,
     "metadata": {},
     "output_type": "execute_result"
    }
   ],
   "source": [
    "vegetales"
   ]
  },
  {
   "cell_type": "markdown",
   "id": "fc7bb376",
   "metadata": {},
   "source": [
    "## 3. Comprensión de listas"
   ]
  },
  {
   "cell_type": "markdown",
   "id": "1bb66d99",
   "metadata": {},
   "source": [
    "Pendiente"
   ]
  },
  {
   "cell_type": "markdown",
   "id": "3588d16a",
   "metadata": {},
   "source": [
    "### 3.1 Generador de expresiones\n",
    "A diferencia de una comprensión de listas, un generador de expresiones crea fuciones sin mostrar el resultado para optimizar la memoria. Pueden llamarse en cualquier momento."
   ]
  },
  {
   "cell_type": "code",
   "execution_count": null,
   "id": "a0bdc23b",
   "metadata": {},
   "outputs": [],
   "source": [
    "(Pendiente)"
   ]
  },
  {
   "cell_type": "markdown",
   "id": "e0d8b35d",
   "metadata": {
    "heading_collapsed": true
   },
   "source": [
    "## 3. Filter, map, y lambda"
   ]
  },
  {
   "cell_type": "markdown",
   "id": "84dfe981",
   "metadata": {
    "hidden": true
   },
   "source": [
    "La función **filter** permite fltrar una lista dado un criterio o función"
   ]
  },
  {
   "cell_type": "code",
   "execution_count": 12,
   "id": "a4453142",
   "metadata": {
    "hidden": true
   },
   "outputs": [],
   "source": [
    "lista=[-3,5,8,4,1,-6,7,10]"
   ]
  },
  {
   "cell_type": "code",
   "execution_count": 2,
   "id": "f83ce55b",
   "metadata": {
    "hidden": true
   },
   "outputs": [],
   "source": [
    "def espar (i):\n",
    "    return i%2 == 0"
   ]
  },
  {
   "cell_type": "code",
   "execution_count": 3,
   "id": "331df8b1",
   "metadata": {
    "hidden": true
   },
   "outputs": [
    {
     "data": {
      "text/plain": [
       "[8, 4, -6, 10]"
      ]
     },
     "execution_count": 3,
     "metadata": {},
     "output_type": "execute_result"
    }
   ],
   "source": [
    "# La función, por si sola, no devolverá un resultado, por lo que se debe usar otra función\n",
    "list(filter(espar,lista))"
   ]
  },
  {
   "cell_type": "code",
   "execution_count": 4,
   "id": "c1b81120",
   "metadata": {
    "hidden": true
   },
   "outputs": [
    {
     "data": {
      "text/plain": [
       "[8, 4, -6, 10]"
      ]
     },
     "execution_count": 4,
     "metadata": {},
     "output_type": "execute_result"
    }
   ],
   "source": [
    "# Se puede usar el criterio de filtro con comprensión de listas\n",
    "[i for i in lista if espar(i)]"
   ]
  },
  {
   "cell_type": "markdown",
   "id": "eb7290fe",
   "metadata": {
    "hidden": true
   },
   "source": [
    "Si la función de usará una sola vez, es mejor usar **lambda**"
   ]
  },
  {
   "cell_type": "code",
   "execution_count": 5,
   "id": "33aa1612",
   "metadata": {
    "hidden": true
   },
   "outputs": [
    {
     "data": {
      "text/plain": [
       "[8, 4, -6, 10]"
      ]
     },
     "execution_count": 5,
     "metadata": {},
     "output_type": "execute_result"
    }
   ],
   "source": [
    "list(filter(lambda i: i%2 == 0,lista))"
   ]
  },
  {
   "cell_type": "markdown",
   "id": "677d0567",
   "metadata": {
    "hidden": true
   },
   "source": [
    "La función **map** ejecuta una función a cada elemento de una lista"
   ]
  },
  {
   "cell_type": "markdown",
   "id": "3eacaec0",
   "metadata": {
    "hidden": true
   },
   "source": [
    "Al igual que filter, el resutlado de map debe llamarse con otra función. La utilidad de map está destaca cuando la memoria es escasa o los datos son muy grandes"
   ]
  },
  {
   "cell_type": "code",
   "execution_count": 7,
   "id": "6b280105",
   "metadata": {
    "hidden": true
   },
   "outputs": [],
   "source": [
    "lista=[-3,5,8,4,1,-6,7,10]"
   ]
  },
  {
   "cell_type": "code",
   "execution_count": 8,
   "id": "0f729c34",
   "metadata": {
    "hidden": true
   },
   "outputs": [
    {
     "data": {
      "text/plain": [
       "[-27, 125, 512, 64, 1, -216, 343, 1000]"
      ]
     },
     "execution_count": 8,
     "metadata": {},
     "output_type": "execute_result"
    }
   ],
   "source": [
    "list(map(lambda i: i**3,lista))"
   ]
  },
  {
   "cell_type": "code",
   "execution_count": 10,
   "id": "0eb7f903",
   "metadata": {
    "hidden": true
   },
   "outputs": [
    {
     "data": {
      "text/plain": [
       "[-27, 125, 512, 64, 1, -216, 343, 1000]"
      ]
     },
     "execution_count": 10,
     "metadata": {},
     "output_type": "execute_result"
    }
   ],
   "source": [
    "# Es posible obtener el mismo resultado sin usar la función map\n",
    "[i**3 for i in lista]"
   ]
  },
  {
   "cell_type": "markdown",
   "id": "09be2ffe",
   "metadata": {},
   "source": [
    "## 3. Transformación de números"
   ]
  },
  {
   "cell_type": "code",
   "execution_count": 17,
   "id": "7720d507",
   "metadata": {},
   "outputs": [
    {
     "data": {
      "text/plain": [
       "10"
      ]
     },
     "execution_count": 17,
     "metadata": {},
     "output_type": "execute_result"
    }
   ],
   "source": [
    "# str to int\n",
    "x = \"10\"\n",
    "int(x)"
   ]
  },
  {
   "cell_type": "code",
   "execution_count": 18,
   "id": "5c0a0a6d",
   "metadata": {},
   "outputs": [
    {
     "data": {
      "text/plain": [
       "10.025"
      ]
     },
     "execution_count": 18,
     "metadata": {},
     "output_type": "execute_result"
    }
   ],
   "source": [
    "# str to float\n",
    "x = \"10.025\"\n",
    "float(x)"
   ]
  },
  {
   "cell_type": "markdown",
   "id": "763cb78e",
   "metadata": {},
   "source": [
    "## 4. Creación de inputs\n",
    "Los inputs son interpretados como cadena, por lo que si se pretende hacer operaciones primero se deben hacer transformaciones"
   ]
  },
  {
   "cell_type": "code",
   "execution_count": 12,
   "id": "6660a78c",
   "metadata": {},
   "outputs": [
    {
     "name": "stdout",
     "output_type": "stream",
     "text": [
      "¿Cuál es tu nombre?Carlos\n",
      "Hola Carlos\n"
     ]
    }
   ],
   "source": [
    "nombre = input(\"¿Cuál es tu nombre?\")\n",
    "print(\"Hola\", nombre)"
   ]
  },
  {
   "cell_type": "code",
   "execution_count": 14,
   "id": "6bc09cf9",
   "metadata": {},
   "outputs": [
    {
     "name": "stdout",
     "output_type": "stream",
     "text": [
      "Número 1:10\n",
      "Número 2:20\n"
     ]
    },
    {
     "data": {
      "text/plain": [
       "30"
      ]
     },
     "execution_count": 14,
     "metadata": {},
     "output_type": "execute_result"
    }
   ],
   "source": [
    "x = input(\"Número 1:\")\n",
    "y = input(\"Número 2:\")\n",
    "int(x) + int(y)"
   ]
  },
  {
   "cell_type": "markdown",
   "id": "ab5830eb",
   "metadata": {},
   "source": [
    "## 5. Sentencia if"
   ]
  },
  {
   "cell_type": "code",
   "execution_count": 7,
   "id": "94303016",
   "metadata": {},
   "outputs": [],
   "source": [
    "# Si la condición no se cumple, no se obtendrá resultado\n",
    "edad = 24\n",
    "if edad >= 60:\n",
    "    print(\"Adulto mayor\")"
   ]
  },
  {
   "cell_type": "code",
   "execution_count": 10,
   "id": "07ea35da",
   "metadata": {},
   "outputs": [
    {
     "name": "stdout",
     "output_type": "stream",
     "text": [
      "Joven\n"
     ]
    }
   ],
   "source": [
    "edad = 20\n",
    "if edad >= 60:\n",
    "    print(\"Adulto mayor\")\n",
    "elif edad >= 27:\n",
    "    print(\"Adulto\")\n",
    "elif edad >= 18:\n",
    "    print(\"Joven\")\n",
    "elif edad >= 12:\n",
    "    print(\"Adolescente\")\n",
    "else:\n",
    "    print(\"Infante\")"
   ]
  },
  {
   "cell_type": "markdown",
   "id": "40397833",
   "metadata": {},
   "source": [
    "## 6. Sentencia while\n",
    "Realiza una acción mientras la condición sea verdadera"
   ]
  },
  {
   "cell_type": "markdown",
   "id": "0073f7c4",
   "metadata": {},
   "source": [
    "Para mostrar la forma de trabajo de la sentencia while se reponderá a la pregunta ¿cuál es la potencia de 4 más grande que 817?"
   ]
  },
  {
   "cell_type": "code",
   "execution_count": 11,
   "id": "b4ad2950",
   "metadata": {
    "scrolled": true
   },
   "outputs": [
    {
     "data": {
      "text/plain": [
       "1024"
      ]
     },
     "execution_count": 11,
     "metadata": {},
     "output_type": "execute_result"
    }
   ],
   "source": [
    "potencia = 4\n",
    "while potencia <= 817:\n",
    "    potencia = potencia * 4\n",
    "potencia"
   ]
  },
  {
   "cell_type": "markdown",
   "id": "667aba4e",
   "metadata": {
    "heading_collapsed": true
   },
   "source": [
    "## 7. Sentencia for\n",
    "Realiza la acción para cada elemento en una sucesión de elementos. Esta sucesión puede ser una lista de valores, que no necesariamente debe estar ordenada o pueden ser caracteres, ya que una palabra es una lista de caracteres."
   ]
  },
  {
   "cell_type": "code",
   "execution_count": 27,
   "id": "e14f816b",
   "metadata": {
    "hidden": true
   },
   "outputs": [
    {
     "name": "stdout",
     "output_type": "stream",
     "text": [
      "P a l a b r a "
     ]
    }
   ],
   "source": [
    "for character in \"Palabra\":\n",
    "    print(character, end = \" \")"
   ]
  },
  {
   "cell_type": "markdown",
   "id": "1ddaa57f",
   "metadata": {
    "hidden": true
   },
   "source": [
    "Cálculo del factorial de un número"
   ]
  },
  {
   "cell_type": "code",
   "execution_count": 34,
   "id": "35ad8792",
   "metadata": {
    "hidden": true
   },
   "outputs": [
    {
     "data": {
      "text/plain": [
       "120"
      ]
     },
     "execution_count": 34,
     "metadata": {},
     "output_type": "execute_result"
    }
   ],
   "source": [
    "# La función\n",
    "fact = 1\n",
    "for nmro in range(1,6):\n",
    "    fact = fact * nmro\n",
    "fact"
   ]
  },
  {
   "cell_type": "code",
   "execution_count": 33,
   "id": "ed4a7fc7",
   "metadata": {
    "hidden": true
   },
   "outputs": [
    {
     "name": "stdout",
     "output_type": "stream",
     "text": [
      "range(1, 5)\n"
     ]
    }
   ],
   "source": [
    "print(range(1,5))"
   ]
  },
  {
   "cell_type": "markdown",
   "id": "592f4135",
   "metadata": {},
   "source": [
    "## 8. Operadores booleanos And - Or"
   ]
  },
  {
   "cell_type": "code",
   "execution_count": 40,
   "id": "d3a5d700",
   "metadata": {},
   "outputs": [
    {
     "name": "stdout",
     "output_type": "stream",
     "text": [
      "Posible cliente. Enviar información\n"
     ]
    }
   ],
   "source": [
    "registro_email = \"Si\"\n",
    "salario_mens = 25000\n",
    "if registro_email == \"Si\" and salario_mens >= 20000:\n",
    "    print(\"Posible cliente. Enviar información\")"
   ]
  },
  {
   "cell_type": "code",
   "execution_count": 41,
   "id": "ad2e411b",
   "metadata": {},
   "outputs": [
    {
     "name": "stdout",
     "output_type": "stream",
     "text": [
      "Realizar entrevista\n"
     ]
    }
   ],
   "source": [
    "título = \"Si\"\n",
    "experiencia_años = 4\n",
    "if título == \"Si\" or experiencia_años >= 5:\n",
    "    print(\"Realizar entrevista\")"
   ]
  }
 ],
 "metadata": {
  "kernelspec": {
   "display_name": "Python 3 (ipykernel)",
   "language": "python",
   "name": "python3"
  },
  "language_info": {
   "codemirror_mode": {
    "name": "ipython",
    "version": 3
   },
   "file_extension": ".py",
   "mimetype": "text/x-python",
   "name": "python",
   "nbconvert_exporter": "python",
   "pygments_lexer": "ipython3",
   "version": "3.10.4"
  },
  "toc": {
   "base_numbering": 1,
   "nav_menu": {},
   "number_sections": false,
   "sideBar": true,
   "skip_h1_title": false,
   "title_cell": "Table of Contents",
   "title_sidebar": "Contents",
   "toc_cell": false,
   "toc_position": {},
   "toc_section_display": true,
   "toc_window_display": true
  }
 },
 "nbformat": 4,
 "nbformat_minor": 5
}
