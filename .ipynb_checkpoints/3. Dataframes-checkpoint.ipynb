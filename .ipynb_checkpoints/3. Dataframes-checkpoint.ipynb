{
 "cells": [
  {
   "cell_type": "markdown",
   "id": "c1b800f0",
   "metadata": {
    "heading_collapsed": true
   },
   "source": [
    "## 1. Creación de Dataframes\n",
    "Casi siempre los dataframes serán importados durante la práctica, en esta ocasión se mostrará cómo crearlos a partir de un diccionario para ilustrar otras funciones útiles"
   ]
  },
  {
   "cell_type": "code",
   "execution_count": 2,
   "id": "41f6d8f6",
   "metadata": {
    "hidden": true
   },
   "outputs": [],
   "source": [
    "import pandas as pd"
   ]
  },
  {
   "cell_type": "code",
   "execution_count": 15,
   "id": "c1f1b858",
   "metadata": {
    "hidden": true,
    "scrolled": true
   },
   "outputs": [
    {
     "data": {
      "text/html": [
       "<div>\n",
       "<style scoped>\n",
       "    .dataframe tbody tr th:only-of-type {\n",
       "        vertical-align: middle;\n",
       "    }\n",
       "\n",
       "    .dataframe tbody tr th {\n",
       "        vertical-align: top;\n",
       "    }\n",
       "\n",
       "    .dataframe thead th {\n",
       "        text-align: right;\n",
       "    }\n",
       "</style>\n",
       "<table border=\"1\" class=\"dataframe\">\n",
       "  <thead>\n",
       "    <tr style=\"text-align: right;\">\n",
       "      <th></th>\n",
       "      <th>Vanesa</th>\n",
       "      <th>Kevin</th>\n",
       "      <th>Fernanda</th>\n",
       "      <th>Patricia</th>\n",
       "    </tr>\n",
       "  </thead>\n",
       "  <tbody>\n",
       "    <tr>\n",
       "      <th>0</th>\n",
       "      <td>61</td>\n",
       "      <td>89</td>\n",
       "      <td>59</td>\n",
       "      <td>2</td>\n",
       "    </tr>\n",
       "    <tr>\n",
       "      <th>1</th>\n",
       "      <td>23</td>\n",
       "      <td>89</td>\n",
       "      <td>60</td>\n",
       "      <td>70</td>\n",
       "    </tr>\n",
       "    <tr>\n",
       "      <th>2</th>\n",
       "      <td>10</td>\n",
       "      <td>57</td>\n",
       "      <td>75</td>\n",
       "      <td>68</td>\n",
       "    </tr>\n",
       "    <tr>\n",
       "      <th>3</th>\n",
       "      <td>66</td>\n",
       "      <td>90</td>\n",
       "      <td>460</td>\n",
       "      <td>67</td>\n",
       "    </tr>\n",
       "    <tr>\n",
       "      <th>4</th>\n",
       "      <td>65</td>\n",
       "      <td>88</td>\n",
       "      <td>62</td>\n",
       "      <td>65</td>\n",
       "    </tr>\n",
       "  </tbody>\n",
       "</table>\n",
       "</div>"
      ],
      "text/plain": [
       "   Vanesa  Kevin  Fernanda  Patricia\n",
       "0      61     89        59         2\n",
       "1      23     89        60        70\n",
       "2      10     57        75        68\n",
       "3      66     90       460        67\n",
       "4      65     88        62        65"
      ]
     },
     "execution_count": 15,
     "metadata": {},
     "output_type": "execute_result"
    }
   ],
   "source": [
    "df = pd.DataFrame({'Vanesa':[61,23,10,66,65],\n",
    "                    'Kevin':[89,89,57,90,88],\n",
    "                    'Fernanda':[59,60,75,460,62],\n",
    "                    'Patricia':[2,70,68,67,65]})\n",
    "df"
   ]
  },
  {
   "cell_type": "code",
   "execution_count": 18,
   "id": "a8ebe386",
   "metadata": {
    "hidden": true
   },
   "outputs": [
    {
     "data": {
      "text/plain": [
       "pandas.core.frame.DataFrame"
      ]
     },
     "execution_count": 18,
     "metadata": {},
     "output_type": "execute_result"
    }
   ],
   "source": [
    "type(df)"
   ]
  },
  {
   "cell_type": "markdown",
   "id": "a3effc21",
   "metadata": {
    "hidden": true
   },
   "source": [
    "Agregar un **índice**"
   ]
  },
  {
   "cell_type": "code",
   "execution_count": 12,
   "id": "284a6359",
   "metadata": {
    "hidden": true
   },
   "outputs": [
    {
     "data": {
      "text/html": [
       "<div>\n",
       "<style scoped>\n",
       "    .dataframe tbody tr th:only-of-type {\n",
       "        vertical-align: middle;\n",
       "    }\n",
       "\n",
       "    .dataframe tbody tr th {\n",
       "        vertical-align: top;\n",
       "    }\n",
       "\n",
       "    .dataframe thead th {\n",
       "        text-align: right;\n",
       "    }\n",
       "</style>\n",
       "<table border=\"1\" class=\"dataframe\">\n",
       "  <thead>\n",
       "    <tr style=\"text-align: right;\">\n",
       "      <th></th>\n",
       "      <th>Vanesa</th>\n",
       "      <th>Kevin</th>\n",
       "      <th>Fernanda</th>\n",
       "      <th>Patricia</th>\n",
       "    </tr>\n",
       "  </thead>\n",
       "  <tbody>\n",
       "    <tr>\n",
       "      <th>Periodo 1</th>\n",
       "      <td>61</td>\n",
       "      <td>89</td>\n",
       "      <td>59</td>\n",
       "      <td>2</td>\n",
       "    </tr>\n",
       "    <tr>\n",
       "      <th>Periodo 2</th>\n",
       "      <td>23</td>\n",
       "      <td>89</td>\n",
       "      <td>60</td>\n",
       "      <td>70</td>\n",
       "    </tr>\n",
       "    <tr>\n",
       "      <th>Periodo 3</th>\n",
       "      <td>10</td>\n",
       "      <td>57</td>\n",
       "      <td>75</td>\n",
       "      <td>68</td>\n",
       "    </tr>\n",
       "    <tr>\n",
       "      <th>Periodo 4</th>\n",
       "      <td>66</td>\n",
       "      <td>90</td>\n",
       "      <td>460</td>\n",
       "      <td>67</td>\n",
       "    </tr>\n",
       "    <tr>\n",
       "      <th>Periodo 5</th>\n",
       "      <td>65</td>\n",
       "      <td>88</td>\n",
       "      <td>62</td>\n",
       "      <td>65</td>\n",
       "    </tr>\n",
       "  </tbody>\n",
       "</table>\n",
       "</div>"
      ],
      "text/plain": [
       "           Vanesa  Kevin  Fernanda  Patricia\n",
       "Periodo 1      61     89        59         2\n",
       "Periodo 2      23     89        60        70\n",
       "Periodo 3      10     57        75        68\n",
       "Periodo 4      66     90       460        67\n",
       "Periodo 5      65     88        62        65"
      ]
     },
     "execution_count": 12,
     "metadata": {},
     "output_type": "execute_result"
    }
   ],
   "source": [
    "df.index = ['Periodo 1','Periodo 2','Periodo 3','Periodo 4','Periodo 5']\n",
    "df"
   ]
  },
  {
   "cell_type": "markdown",
   "id": "63e1811d",
   "metadata": {
    "hidden": true
   },
   "source": [
    "El **índice** puede introducirse en la misma función pd.DataFrame"
   ]
  },
  {
   "cell_type": "code",
   "execution_count": 20,
   "id": "8fa5eff0",
   "metadata": {
    "hidden": true
   },
   "outputs": [
    {
     "data": {
      "text/html": [
       "<div>\n",
       "<style scoped>\n",
       "    .dataframe tbody tr th:only-of-type {\n",
       "        vertical-align: middle;\n",
       "    }\n",
       "\n",
       "    .dataframe tbody tr th {\n",
       "        vertical-align: top;\n",
       "    }\n",
       "\n",
       "    .dataframe thead th {\n",
       "        text-align: right;\n",
       "    }\n",
       "</style>\n",
       "<table border=\"1\" class=\"dataframe\">\n",
       "  <thead>\n",
       "    <tr style=\"text-align: right;\">\n",
       "      <th></th>\n",
       "      <th>Vanesa</th>\n",
       "      <th>Kevin</th>\n",
       "      <th>Fernanda</th>\n",
       "      <th>Patricia</th>\n",
       "    </tr>\n",
       "  </thead>\n",
       "  <tbody>\n",
       "    <tr>\n",
       "      <th>Periodo 1</th>\n",
       "      <td>61</td>\n",
       "      <td>89</td>\n",
       "      <td>59</td>\n",
       "      <td>2</td>\n",
       "    </tr>\n",
       "    <tr>\n",
       "      <th>Periodo 2</th>\n",
       "      <td>23</td>\n",
       "      <td>89</td>\n",
       "      <td>60</td>\n",
       "      <td>70</td>\n",
       "    </tr>\n",
       "    <tr>\n",
       "      <th>Periodo 3</th>\n",
       "      <td>10</td>\n",
       "      <td>57</td>\n",
       "      <td>75</td>\n",
       "      <td>68</td>\n",
       "    </tr>\n",
       "    <tr>\n",
       "      <th>Periodo 4</th>\n",
       "      <td>66</td>\n",
       "      <td>90</td>\n",
       "      <td>460</td>\n",
       "      <td>67</td>\n",
       "    </tr>\n",
       "    <tr>\n",
       "      <th>Periodo 5</th>\n",
       "      <td>65</td>\n",
       "      <td>88</td>\n",
       "      <td>62</td>\n",
       "      <td>65</td>\n",
       "    </tr>\n",
       "  </tbody>\n",
       "</table>\n",
       "</div>"
      ],
      "text/plain": [
       "           Vanesa  Kevin  Fernanda  Patricia\n",
       "Periodo 1      61     89        59         2\n",
       "Periodo 2      23     89        60        70\n",
       "Periodo 3      10     57        75        68\n",
       "Periodo 4      66     90       460        67\n",
       "Periodo 5      65     88        62        65"
      ]
     },
     "execution_count": 20,
     "metadata": {},
     "output_type": "execute_result"
    }
   ],
   "source": [
    "df = pd.DataFrame({'Vanesa':[61,23,10,66,65],\n",
    "                    'Kevin':[89,89,57,90,88],\n",
    "                    'Fernanda':[59,60,75,460,62],\n",
    "                    'Patricia':[2,70,68,67,65]},\n",
    "                   index = ['Periodo 1','Periodo 2','Periodo 3','Periodo 4','Periodo 5'])\n",
    "df"
   ]
  },
  {
   "cell_type": "markdown",
   "id": "f530e0c4",
   "metadata": {},
   "source": [
    "## 2. Consultar información de un DataFrame"
   ]
  },
  {
   "cell_type": "markdown",
   "id": "d79af340",
   "metadata": {
    "heading_collapsed": true
   },
   "source": [
    "### 2.2. Selección de filas\n",
    "La selección de filas es el equivalente al uso de filtros sobre una tabla de datos"
   ]
  },
  {
   "cell_type": "code",
   "execution_count": 29,
   "id": "86bc7bd5",
   "metadata": {
    "hidden": true
   },
   "outputs": [
    {
     "data": {
      "text/plain": [
       "Vanesa      10\n",
       "Kevin       57\n",
       "Fernanda    75\n",
       "Patricia    68\n",
       "Name: Periodo 3, dtype: int64"
      ]
     },
     "execution_count": 29,
     "metadata": {},
     "output_type": "execute_result"
    }
   ],
   "source": [
    "# Uso del método loc para filtrar el índice \"Periodo 3\"\n",
    "# El método loc usa el nombre de los índices para recoger información \n",
    "df.loc[\"Periodo 3\"]"
   ]
  },
  {
   "cell_type": "code",
   "execution_count": 30,
   "id": "9a5dffb3",
   "metadata": {
    "hidden": true
   },
   "outputs": [
    {
     "data": {
      "text/plain": [
       "Vanesa      10\n",
       "Kevin       57\n",
       "Fernanda    75\n",
       "Patricia    68\n",
       "Name: Periodo 3, dtype: int64"
      ]
     },
     "execution_count": 30,
     "metadata": {},
     "output_type": "execute_result"
    }
   ],
   "source": [
    "# Uso de la función iloc para filtrar la tercera fila\n",
    "# El método iloc usa el número de índice para recoger información\n",
    "df.iloc[2]"
   ]
  },
  {
   "cell_type": "code",
   "execution_count": 66,
   "id": "5783b5ed",
   "metadata": {
    "hidden": true
   },
   "outputs": [
    {
     "data": {
      "text/html": [
       "<div>\n",
       "<style scoped>\n",
       "    .dataframe tbody tr th:only-of-type {\n",
       "        vertical-align: middle;\n",
       "    }\n",
       "\n",
       "    .dataframe tbody tr th {\n",
       "        vertical-align: top;\n",
       "    }\n",
       "\n",
       "    .dataframe thead th {\n",
       "        text-align: right;\n",
       "    }\n",
       "</style>\n",
       "<table border=\"1\" class=\"dataframe\">\n",
       "  <thead>\n",
       "    <tr style=\"text-align: right;\">\n",
       "      <th></th>\n",
       "      <th>Vanesa</th>\n",
       "      <th>Kevin</th>\n",
       "      <th>Fernanda</th>\n",
       "      <th>Patricia</th>\n",
       "    </tr>\n",
       "  </thead>\n",
       "  <tbody>\n",
       "    <tr>\n",
       "      <th>Periodo 1</th>\n",
       "      <td>61</td>\n",
       "      <td>89</td>\n",
       "      <td>59</td>\n",
       "      <td>2</td>\n",
       "    </tr>\n",
       "    <tr>\n",
       "      <th>Periodo 2</th>\n",
       "      <td>23</td>\n",
       "      <td>89</td>\n",
       "      <td>60</td>\n",
       "      <td>70</td>\n",
       "    </tr>\n",
       "    <tr>\n",
       "      <th>Periodo 3</th>\n",
       "      <td>10</td>\n",
       "      <td>57</td>\n",
       "      <td>75</td>\n",
       "      <td>68</td>\n",
       "    </tr>\n",
       "  </tbody>\n",
       "</table>\n",
       "</div>"
      ],
      "text/plain": [
       "           Vanesa  Kevin  Fernanda  Patricia\n",
       "Periodo 1      61     89        59         2\n",
       "Periodo 2      23     89        60        70\n",
       "Periodo 3      10     57        75        68"
      ]
     },
     "execution_count": 66,
     "metadata": {},
     "output_type": "execute_result"
    }
   ],
   "source": [
    "# Filtrar desde la primera a la tercera fila del dataframe\n",
    "df.iloc[0:3]"
   ]
  },
  {
   "cell_type": "code",
   "execution_count": 67,
   "id": "18f11b05",
   "metadata": {
    "hidden": true
   },
   "outputs": [
    {
     "data": {
      "text/html": [
       "<div>\n",
       "<style scoped>\n",
       "    .dataframe tbody tr th:only-of-type {\n",
       "        vertical-align: middle;\n",
       "    }\n",
       "\n",
       "    .dataframe tbody tr th {\n",
       "        vertical-align: top;\n",
       "    }\n",
       "\n",
       "    .dataframe thead th {\n",
       "        text-align: right;\n",
       "    }\n",
       "</style>\n",
       "<table border=\"1\" class=\"dataframe\">\n",
       "  <thead>\n",
       "    <tr style=\"text-align: right;\">\n",
       "      <th></th>\n",
       "      <th>Vanesa</th>\n",
       "      <th>Kevin</th>\n",
       "      <th>Fernanda</th>\n",
       "      <th>Patricia</th>\n",
       "    </tr>\n",
       "  </thead>\n",
       "  <tbody>\n",
       "    <tr>\n",
       "      <th>Periodo 1</th>\n",
       "      <td>61</td>\n",
       "      <td>89</td>\n",
       "      <td>59</td>\n",
       "      <td>2</td>\n",
       "    </tr>\n",
       "    <tr>\n",
       "      <th>Periodo 3</th>\n",
       "      <td>10</td>\n",
       "      <td>57</td>\n",
       "      <td>75</td>\n",
       "      <td>68</td>\n",
       "    </tr>\n",
       "  </tbody>\n",
       "</table>\n",
       "</div>"
      ],
      "text/plain": [
       "           Vanesa  Kevin  Fernanda  Patricia\n",
       "Periodo 1      61     89        59         2\n",
       "Periodo 3      10     57        75        68"
      ]
     },
     "execution_count": 67,
     "metadata": {},
     "output_type": "execute_result"
    }
   ],
   "source": [
    "# Filtrar solamente la primera y la tercera fila del dataframe\n",
    "df.iloc[[0,2]]"
   ]
  },
  {
   "cell_type": "markdown",
   "id": "245eb952",
   "metadata": {
    "heading_collapsed": true
   },
   "source": [
    "### 2.2. Aplicación de filtro y selección con criterios lógicos"
   ]
  },
  {
   "cell_type": "code",
   "execution_count": 70,
   "id": "d64214d0",
   "metadata": {
    "hidden": true
   },
   "outputs": [
    {
     "data": {
      "text/html": [
       "<div>\n",
       "<style scoped>\n",
       "    .dataframe tbody tr th:only-of-type {\n",
       "        vertical-align: middle;\n",
       "    }\n",
       "\n",
       "    .dataframe tbody tr th {\n",
       "        vertical-align: top;\n",
       "    }\n",
       "\n",
       "    .dataframe thead th {\n",
       "        text-align: right;\n",
       "    }\n",
       "</style>\n",
       "<table border=\"1\" class=\"dataframe\">\n",
       "  <thead>\n",
       "    <tr style=\"text-align: right;\">\n",
       "      <th></th>\n",
       "      <th>Vanesa</th>\n",
       "      <th>Kevin</th>\n",
       "      <th>Fernanda</th>\n",
       "      <th>Patricia</th>\n",
       "    </tr>\n",
       "  </thead>\n",
       "  <tbody>\n",
       "    <tr>\n",
       "      <th>Periodo 1</th>\n",
       "      <td>NaN</td>\n",
       "      <td>89.0</td>\n",
       "      <td>NaN</td>\n",
       "      <td>NaN</td>\n",
       "    </tr>\n",
       "    <tr>\n",
       "      <th>Periodo 2</th>\n",
       "      <td>NaN</td>\n",
       "      <td>89.0</td>\n",
       "      <td>NaN</td>\n",
       "      <td>70.0</td>\n",
       "    </tr>\n",
       "    <tr>\n",
       "      <th>Periodo 3</th>\n",
       "      <td>NaN</td>\n",
       "      <td>NaN</td>\n",
       "      <td>75.0</td>\n",
       "      <td>NaN</td>\n",
       "    </tr>\n",
       "    <tr>\n",
       "      <th>Periodo 4</th>\n",
       "      <td>NaN</td>\n",
       "      <td>90.0</td>\n",
       "      <td>460.0</td>\n",
       "      <td>NaN</td>\n",
       "    </tr>\n",
       "    <tr>\n",
       "      <th>Periodo 5</th>\n",
       "      <td>NaN</td>\n",
       "      <td>88.0</td>\n",
       "      <td>NaN</td>\n",
       "      <td>NaN</td>\n",
       "    </tr>\n",
       "  </tbody>\n",
       "</table>\n",
       "</div>"
      ],
      "text/plain": [
       "           Vanesa  Kevin  Fernanda  Patricia\n",
       "Periodo 1     NaN   89.0       NaN       NaN\n",
       "Periodo 2     NaN   89.0       NaN      70.0\n",
       "Periodo 3     NaN    NaN      75.0       NaN\n",
       "Periodo 4     NaN   90.0     460.0       NaN\n",
       "Periodo 5     NaN   88.0       NaN       NaN"
      ]
     },
     "execution_count": 70,
     "metadata": {},
     "output_type": "execute_result"
    }
   ],
   "source": [
    "# Conservar aquellos valores de la tabla que sean mayores a 70\n",
    "# Nótese que los campos con \"NaN\" son campos vacios\n",
    "df[df>=70]"
   ]
  },
  {
   "cell_type": "code",
   "execution_count": 72,
   "id": "56750779",
   "metadata": {
    "hidden": true
   },
   "outputs": [
    {
     "data": {
      "text/html": [
       "<div>\n",
       "<style scoped>\n",
       "    .dataframe tbody tr th:only-of-type {\n",
       "        vertical-align: middle;\n",
       "    }\n",
       "\n",
       "    .dataframe tbody tr th {\n",
       "        vertical-align: top;\n",
       "    }\n",
       "\n",
       "    .dataframe thead th {\n",
       "        text-align: right;\n",
       "    }\n",
       "</style>\n",
       "<table border=\"1\" class=\"dataframe\">\n",
       "  <thead>\n",
       "    <tr style=\"text-align: right;\">\n",
       "      <th></th>\n",
       "      <th>Vanesa</th>\n",
       "      <th>Kevin</th>\n",
       "      <th>Fernanda</th>\n",
       "      <th>Patricia</th>\n",
       "    </tr>\n",
       "  </thead>\n",
       "  <tbody>\n",
       "    <tr>\n",
       "      <th>Periodo 1</th>\n",
       "      <td>NaN</td>\n",
       "      <td>NaN</td>\n",
       "      <td>NaN</td>\n",
       "      <td>NaN</td>\n",
       "    </tr>\n",
       "    <tr>\n",
       "      <th>Periodo 2</th>\n",
       "      <td>NaN</td>\n",
       "      <td>NaN</td>\n",
       "      <td>NaN</td>\n",
       "      <td>70.0</td>\n",
       "    </tr>\n",
       "    <tr>\n",
       "      <th>Periodo 3</th>\n",
       "      <td>NaN</td>\n",
       "      <td>NaN</td>\n",
       "      <td>75.0</td>\n",
       "      <td>68.0</td>\n",
       "    </tr>\n",
       "    <tr>\n",
       "      <th>Periodo 4</th>\n",
       "      <td>66.0</td>\n",
       "      <td>NaN</td>\n",
       "      <td>NaN</td>\n",
       "      <td>67.0</td>\n",
       "    </tr>\n",
       "    <tr>\n",
       "      <th>Periodo 5</th>\n",
       "      <td>65.0</td>\n",
       "      <td>NaN</td>\n",
       "      <td>NaN</td>\n",
       "      <td>65.0</td>\n",
       "    </tr>\n",
       "  </tbody>\n",
       "</table>\n",
       "</div>"
      ],
      "text/plain": [
       "           Vanesa  Kevin  Fernanda  Patricia\n",
       "Periodo 1     NaN    NaN       NaN       NaN\n",
       "Periodo 2     NaN    NaN       NaN      70.0\n",
       "Periodo 3     NaN    NaN      75.0      68.0\n",
       "Periodo 4    66.0    NaN       NaN      67.0\n",
       "Periodo 5    65.0    NaN       NaN      65.0"
      ]
     },
     "execution_count": 72,
     "metadata": {},
     "output_type": "execute_result"
    }
   ],
   "source": [
    "# Conservar aquellos valores de la tabla que se encuentren entre 65 y 80\n",
    "# Nótese que los campos con \"NaN\" son campos vacios\n",
    "df[(df>=65) & (df<=80)]"
   ]
  },
  {
   "cell_type": "markdown",
   "id": "b3da7917",
   "metadata": {
    "heading_collapsed": true
   },
   "source": [
    "### 2.3. Selección de columnas "
   ]
  },
  {
   "cell_type": "code",
   "execution_count": 73,
   "id": "c53eb3a1",
   "metadata": {
    "hidden": true
   },
   "outputs": [
    {
     "data": {
      "text/plain": [
       "Periodo 1    61\n",
       "Periodo 2    23\n",
       "Periodo 3    10\n",
       "Periodo 4    66\n",
       "Periodo 5    65\n",
       "Name: Vanesa, dtype: int64"
      ]
     },
     "execution_count": 73,
     "metadata": {},
     "output_type": "execute_result"
    }
   ],
   "source": [
    "# Selección de una columna \n",
    "df[\"Vanesa\"]"
   ]
  },
  {
   "cell_type": "code",
   "execution_count": 23,
   "id": "3d1ce7f0",
   "metadata": {
    "hidden": true
   },
   "outputs": [
    {
     "data": {
      "text/plain": [
       "Periodo 1    61\n",
       "Periodo 2    23\n",
       "Periodo 3    10\n",
       "Periodo 4    66\n",
       "Periodo 5    65\n",
       "Name: Vanesa, dtype: int64"
      ]
     },
     "execution_count": 23,
     "metadata": {},
     "output_type": "execute_result"
    }
   ],
   "source": [
    "# Selección de una columna como atributo\n",
    "df.Vanesa"
   ]
  },
  {
   "cell_type": "code",
   "execution_count": 28,
   "id": "216377dd",
   "metadata": {
    "hidden": true
   },
   "outputs": [
    {
     "data": {
      "text/html": [
       "<div>\n",
       "<style scoped>\n",
       "    .dataframe tbody tr th:only-of-type {\n",
       "        vertical-align: middle;\n",
       "    }\n",
       "\n",
       "    .dataframe tbody tr th {\n",
       "        vertical-align: top;\n",
       "    }\n",
       "\n",
       "    .dataframe thead th {\n",
       "        text-align: right;\n",
       "    }\n",
       "</style>\n",
       "<table border=\"1\" class=\"dataframe\">\n",
       "  <thead>\n",
       "    <tr style=\"text-align: right;\">\n",
       "      <th></th>\n",
       "      <th>Vanesa</th>\n",
       "      <th>Kevin</th>\n",
       "    </tr>\n",
       "  </thead>\n",
       "  <tbody>\n",
       "    <tr>\n",
       "      <th>Periodo 1</th>\n",
       "      <td>61</td>\n",
       "      <td>89</td>\n",
       "    </tr>\n",
       "    <tr>\n",
       "      <th>Periodo 2</th>\n",
       "      <td>23</td>\n",
       "      <td>89</td>\n",
       "    </tr>\n",
       "    <tr>\n",
       "      <th>Periodo 3</th>\n",
       "      <td>10</td>\n",
       "      <td>57</td>\n",
       "    </tr>\n",
       "    <tr>\n",
       "      <th>Periodo 4</th>\n",
       "      <td>66</td>\n",
       "      <td>90</td>\n",
       "    </tr>\n",
       "    <tr>\n",
       "      <th>Periodo 5</th>\n",
       "      <td>65</td>\n",
       "      <td>88</td>\n",
       "    </tr>\n",
       "  </tbody>\n",
       "</table>\n",
       "</div>"
      ],
      "text/plain": [
       "           Vanesa  Kevin\n",
       "Periodo 1      61     89\n",
       "Periodo 2      23     89\n",
       "Periodo 3      10     57\n",
       "Periodo 4      66     90\n",
       "Periodo 5      65     88"
      ]
     },
     "execution_count": 28,
     "metadata": {},
     "output_type": "execute_result"
    }
   ],
   "source": [
    "# Selección de varias columnas\n",
    "df[[\"Vanesa\",\"Kevin\"]]"
   ]
  },
  {
   "cell_type": "markdown",
   "id": "54c7051e",
   "metadata": {},
   "source": [
    "### 2.4. Selección de columnas con criterios lógicos"
   ]
  },
  {
   "cell_type": "markdown",
   "id": "2f245852",
   "metadata": {},
   "source": [
    "(Pendiente)"
   ]
  },
  {
   "cell_type": "markdown",
   "id": "d8eccf87",
   "metadata": {},
   "source": [
    "### 2.3. Selección de filas y columnas simultáneamente"
   ]
  },
  {
   "cell_type": "code",
   "execution_count": 55,
   "id": "0f499d8c",
   "metadata": {},
   "outputs": [
    {
     "data": {
      "text/html": [
       "<div>\n",
       "<style scoped>\n",
       "    .dataframe tbody tr th:only-of-type {\n",
       "        vertical-align: middle;\n",
       "    }\n",
       "\n",
       "    .dataframe tbody tr th {\n",
       "        vertical-align: top;\n",
       "    }\n",
       "\n",
       "    .dataframe thead th {\n",
       "        text-align: right;\n",
       "    }\n",
       "</style>\n",
       "<table border=\"1\" class=\"dataframe\">\n",
       "  <thead>\n",
       "    <tr style=\"text-align: right;\">\n",
       "      <th></th>\n",
       "      <th>Vanesa</th>\n",
       "      <th>Patricia</th>\n",
       "    </tr>\n",
       "  </thead>\n",
       "  <tbody>\n",
       "    <tr>\n",
       "      <th>Periodo 2</th>\n",
       "      <td>23</td>\n",
       "      <td>70</td>\n",
       "    </tr>\n",
       "    <tr>\n",
       "      <th>Periodo 3</th>\n",
       "      <td>10</td>\n",
       "      <td>68</td>\n",
       "    </tr>\n",
       "  </tbody>\n",
       "</table>\n",
       "</div>"
      ],
      "text/plain": [
       "           Vanesa  Patricia\n",
       "Periodo 2      23        70\n",
       "Periodo 3      10        68"
      ]
     },
     "execution_count": 55,
     "metadata": {},
     "output_type": "execute_result"
    }
   ],
   "source": [
    "# Filtrar desde la segunda hasta la tercera fila de las columnas de Vanesa y Patricia\n",
    "# El filtro se hace por fila y columna\n",
    "df.iloc[1:3,[0,3]]"
   ]
  },
  {
   "cell_type": "code",
   "execution_count": 58,
   "id": "ca9cc6d2",
   "metadata": {
    "scrolled": true
   },
   "outputs": [
    {
     "data": {
      "text/html": [
       "<div>\n",
       "<style scoped>\n",
       "    .dataframe tbody tr th:only-of-type {\n",
       "        vertical-align: middle;\n",
       "    }\n",
       "\n",
       "    .dataframe tbody tr th {\n",
       "        vertical-align: top;\n",
       "    }\n",
       "\n",
       "    .dataframe thead th {\n",
       "        text-align: right;\n",
       "    }\n",
       "</style>\n",
       "<table border=\"1\" class=\"dataframe\">\n",
       "  <thead>\n",
       "    <tr style=\"text-align: right;\">\n",
       "      <th></th>\n",
       "      <th>Vanesa</th>\n",
       "      <th>Patricia</th>\n",
       "    </tr>\n",
       "  </thead>\n",
       "  <tbody>\n",
       "    <tr>\n",
       "      <th>Periodo 2</th>\n",
       "      <td>23</td>\n",
       "      <td>70</td>\n",
       "    </tr>\n",
       "    <tr>\n",
       "      <th>Periodo 3</th>\n",
       "      <td>10</td>\n",
       "      <td>68</td>\n",
       "    </tr>\n",
       "  </tbody>\n",
       "</table>\n",
       "</div>"
      ],
      "text/plain": [
       "           Vanesa  Patricia\n",
       "Periodo 2      23        70\n",
       "Periodo 3      10        68"
      ]
     },
     "execution_count": 58,
     "metadata": {},
     "output_type": "execute_result"
    }
   ],
   "source": [
    "# Filtrar desde la segunda hasta la tercera fila de las columnas de Vanesa y Patricia\n",
    "# El filtro se hace por fila y columna\n",
    "df.loc[\"Periodo 2\":\"Periodo 3\",[\"Vanesa\",\"Patricia\"]]"
   ]
  }
 ],
 "metadata": {
  "kernelspec": {
   "display_name": "Python 3 (ipykernel)",
   "language": "python",
   "name": "python3"
  },
  "language_info": {
   "codemirror_mode": {
    "name": "ipython",
    "version": 3
   },
   "file_extension": ".py",
   "mimetype": "text/x-python",
   "name": "python",
   "nbconvert_exporter": "python",
   "pygments_lexer": "ipython3",
   "version": "3.10.4"
  },
  "toc": {
   "base_numbering": 1,
   "nav_menu": {},
   "number_sections": false,
   "sideBar": true,
   "skip_h1_title": false,
   "title_cell": "Table of Contents",
   "title_sidebar": "Contents",
   "toc_cell": false,
   "toc_position": {},
   "toc_section_display": true,
   "toc_window_display": false
  }
 },
 "nbformat": 4,
 "nbformat_minor": 5
}
