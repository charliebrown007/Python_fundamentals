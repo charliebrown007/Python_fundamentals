{
 "cells": [
  {
   "cell_type": "markdown",
   "id": "5e938927",
   "metadata": {},
   "source": [
    "# Tranformación de archivos"
   ]
  },
  {
   "cell_type": "markdown",
   "id": "7317f6fc",
   "metadata": {},
   "source": [
    "## 1. sav (SPSS) to csv"
   ]
  },
  {
   "cell_type": "code",
   "execution_count": 7,
   "id": "cde3eeb2",
   "metadata": {},
   "outputs": [],
   "source": [
    "import pandas as pd\n",
    "import os\n",
    "\n",
    "path = r'C:\\Users\\DELL\\OneDrive\\Formación\\Python\\Datasets'\n",
    "file = 'Flinders.sav' \n",
    "\n",
    "df = pd.read_spss(path = os.path.join(path,file), convert_categoricals = True)\n",
    "df.to_csv(path_or_buf = os.path.join(path,'Flinders_converted.csv'), sep = ';', index = False)"
   ]
  },
  {
   "cell_type": "code",
   "execution_count": null,
   "id": "90578015",
   "metadata": {},
   "outputs": [],
   "source": []
  },
  {
   "cell_type": "code",
   "execution_count": null,
   "id": "78b65c45",
   "metadata": {},
   "outputs": [],
   "source": []
  }
 ],
 "metadata": {
  "kernelspec": {
   "display_name": "Python 3 (ipykernel)",
   "language": "python",
   "name": "python3"
  },
  "language_info": {
   "codemirror_mode": {
    "name": "ipython",
    "version": 3
   },
   "file_extension": ".py",
   "mimetype": "text/x-python",
   "name": "python",
   "nbconvert_exporter": "python",
   "pygments_lexer": "ipython3",
   "version": "3.10.8"
  },
  "toc": {
   "base_numbering": 1,
   "nav_menu": {},
   "number_sections": false,
   "sideBar": true,
   "skip_h1_title": false,
   "title_cell": "Table of Contents",
   "title_sidebar": "Contents",
   "toc_cell": false,
   "toc_position": {},
   "toc_section_display": true,
   "toc_window_display": false
  }
 },
 "nbformat": 4,
 "nbformat_minor": 5
}
